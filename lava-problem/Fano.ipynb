{
 "cells": [
  {
   "cell_type": "code",
   "execution_count": 1,
   "metadata": {},
   "outputs": [],
   "source": [
    "import numpy as np\n",
    "from bound_rewards import *\n",
    "from lava_one_step import main as lava_problem"
   ]
  },
  {
   "cell_type": "markdown",
   "metadata": {},
   "source": [
    "### Compute our bound for one-step lava problem"
   ]
  },
  {
   "cell_type": "code",
   "execution_count": 2,
   "metadata": {},
   "outputs": [],
   "source": [
    "# One-step Lava Problem: Our bounds\n",
    "p_correct_vals = np.linspace(0.01, 0.99, 20) \n",
    "reward_xs = np.array([0.1]) \n",
    "reward_x = reward_xs[0]\n",
    "bounds = []\n",
    "for p_correct in p_correct_vals:\n",
    "    nx, nu, ny, T, p0, px_x, py_x, R, R0_expected = lava_problem(['--p_correct', str(p_correct), '--reward_x', str(reward_x)])\n",
    "    bound_inverse = compute_bound(nx, nu, ny, T, p0, px_x, py_x, R, R0_expected) \n",
    "    bounds.append(bound_inverse)\n"
   ]
  },
  {
   "cell_type": "markdown",
   "metadata": {},
   "source": [
    "### Generalized Fano's Inequality\n",
    "$R_\\text{Bayes}$: Bayesian risk \\\n",
    "$L$: Loss function \\\n",
    "$I$: Mutual information \\\n",
    "$\\theta \\in\\Theta$: Parameter describing data, $x\\sim\\mathcal X \\sim P_\\theta$ \\\n",
    "$w$: Prior distribution of true parameter $\\theta$ \n",
    "\n",
    "$$R_\\text{Bayes} (w) \\geq 1+\\frac{I(w,\\mathcal P)+\\log 2}{\\log(\\sup_{a\\in\\mathcal A}w\\{\\theta\\in\\Theta:L(\\theta,a)=0\\})}$$\n",
    "\n",
    "$$1+\\frac{\\mathbb I+\\log(1+R^\\perp)}{\\log(1-R^\\perp}\\leq \\inf_\\pi\\mathbb E[C_\\pi]$$\n",
    "\n",
    "Setting $C_\\pi=1-R_\\pi, \\sup_\\pi R_\\pi = 1-\\inf_\\pi C_\\pi$,\n",
    "\n",
    "$$1+\\frac{\\mathbb I+\\log(1+R^\\perp)}{\\log(1-R^\\perp}\\leq \\inf_\\pi\\mathbb E[C_\\pi]=1-\\sup_\\pi \\mathbb E [R_\\pi]\\\\\\sup_\\pi \\mathbb E [R_\\pi]\\leq\\frac{\\mathbb I+\\log(1+R^\\perp)}{\\log(1/(1-R^\\perp)}$$"
   ]
  },
  {
   "cell_type": "code",
   "execution_count": 19,
   "metadata": {},
   "outputs": [],
   "source": [
    "# Definition of Fano bound\n",
    "def bound_Fano(R_perp, I):\n",
    "    return -(I+np.log(1+R_perp))/np.log(1-R_perp)\n",
    "\n",
    "def compute_Fano(nx, nu, ny, T, p0, px_x, py_x, R, R0_expected):\n",
    "\t'''\n",
    "    One step Fano bound (T=1)\n",
    "    '''\n",
    "\t# Compute R_perp\n",
    "\tR_u = p0[0] * R\n",
    "\tRt_perp = np.max(R_u)\n",
    "\n",
    "    # Compute mutual information\n",
    "\tpx_0 = p0 # Probability of x_0\n",
    "\tpyx_0 = py_x*px_0[None,:]  # pyx(i,j) is probability of measurement i and state j \n",
    "\tpy_0 = np.sum(pyx_0, 1)\n",
    "\n",
    "\tI = 0.0\n",
    "\tfor ii in range(0,ny):\n",
    "\t\tfor jj in range(0,nx):\n",
    "\t\t\tif (np.abs(pyx_0[ii,jj]) > 1e-5):\n",
    "\t\t\t\t# mutual information using KL divergence\n",
    "\t\t\t\tI = I + pyx_0[ii,jj]*np.log(pyx_0[ii,jj]/(py_0[ii]*px_0[jj]))\n",
    "\tbound = bound_Fano(Rt_perp, I)\n",
    "\t\n",
    "\treturn bound\n",
    "\n"
   ]
  },
  {
   "cell_type": "code",
   "execution_count": 20,
   "metadata": {},
   "outputs": [],
   "source": [
    "# One-step Lava Problem: Fano bounds\n",
    "\n",
    "bounds_Fano = []\n",
    "for p_correct in p_correct_vals:\n",
    "    nx, nu, ny, T, p0, px_x, py_x, R, R0_expected = lava_problem(['--p_correct', str(p_correct), '--reward_x', str(reward_x)])\n",
    "    Fano_b = compute_Fano(nx, nu, ny, T, p0, px_x, py_x, R, R0_expected) \n",
    "    bounds_Fano.append(Fano_b)"
   ]
  },
  {
   "cell_type": "code",
   "execution_count": 22,
   "metadata": {},
   "outputs": [
    {
     "name": "stdout",
     "output_type": "stream",
     "text": [
      "***Computing value via POMDP solution***\n",
      "Optimal value:  0.325\n",
      "Optimal cost:  0.675\n",
      "***Computing value via POMDP solution***\n",
      "Optimal value:  0.32499999999999996\n",
      "Optimal cost:  0.675\n",
      "***Computing value via POMDP solution***\n",
      "Optimal value:  0.32499999999999996\n",
      "Optimal cost:  0.675\n",
      "***Computing value via POMDP solution***\n",
      "Optimal value:  0.325\n",
      "Optimal cost:  0.675\n",
      "***Computing value via POMDP solution***\n",
      "Optimal value:  0.32499999999999996\n",
      "Optimal cost:  0.675\n",
      "***Computing value via POMDP solution***\n",
      "Optimal value:  0.325\n",
      "Optimal cost:  0.675\n",
      "***Computing value via POMDP solution***\n",
      "Optimal value:  0.325\n",
      "Optimal cost:  0.675\n",
      "***Computing value via POMDP solution***\n",
      "Optimal value:  0.325\n",
      "Optimal cost:  0.675\n",
      "***Computing value via POMDP solution***\n",
      "Optimal value:  0.325\n",
      "Optimal cost:  0.675\n",
      "***Computing value via POMDP solution***\n",
      "Optimal value:  0.32500000000000007\n",
      "Optimal cost:  0.6749999999999999\n",
      "***Computing value via POMDP solution***\n",
      "Optimal value:  0.325\n",
      "Optimal cost:  0.675\n",
      "***Computing value via POMDP solution***\n",
      "Optimal value:  0.32499999999999996\n",
      "Optimal cost:  0.675\n",
      "***Computing value via POMDP solution***\n",
      "Optimal value:  0.32500000000000007\n",
      "Optimal cost:  0.6749999999999999\n",
      "***Computing value via POMDP solution***\n",
      "Optimal value:  0.325\n",
      "Optimal cost:  0.675\n",
      "***Computing value via POMDP solution***\n",
      "Optimal value:  0.325\n",
      "Optimal cost:  0.675\n",
      "***Computing value via POMDP solution***\n",
      "Optimal value:  0.325\n",
      "Optimal cost:  0.675\n",
      "***Computing value via POMDP solution***\n",
      "Optimal value:  0.325\n",
      "Optimal cost:  0.675\n",
      "***Computing value via POMDP solution***\n",
      "Optimal value:  0.32499999999999996\n",
      "Optimal cost:  0.675\n",
      "***Computing value via POMDP solution***\n",
      "Optimal value:  0.32499999999999996\n",
      "Optimal cost:  0.675\n",
      "***Computing value via POMDP solution***\n",
      "Optimal value:  0.32500000000000007\n",
      "Optimal cost:  0.6749999999999999\n"
     ]
    }
   ],
   "source": [
    "from lava_problem_pomdp_one_step import main as lava_problem_pomdp\n",
    "opt_values = []\n",
    "for p_correct in p_correct_vals:\n",
    "    opt_value = lava_problem_pomdp(['--p_correct', str(p_correct), '--reward_x', str(reward_x)])\n",
    "    opt_values.append(opt_value)"
   ]
  },
  {
   "cell_type": "code",
   "execution_count": 23,
   "metadata": {},
   "outputs": [
    {
     "data": {
      "text/plain": [
       "<matplotlib.legend.Legend at 0x7efd1ae87f10>"
      ]
     },
     "execution_count": 23,
     "metadata": {},
     "output_type": "execute_result"
    },
    {
     "data": {
      "image/png": "[encoded data removed]",
      "text/plain": [
       "<Figure size 432x288 with 1 Axes>"
      ]
     },
     "metadata": {
      "needs_background": "light"
     },
     "output_type": "display_data"
    }
   ],
   "source": [
    "import matplotlib.pyplot as plt\n",
    "\n",
    "plt.plot(p_correct_vals,bounds, label='Our Bounds')\n",
    "plt.plot(p_correct_vals,bounds_Fano, label='Fano Bounds')\n",
    "plt.plot(p_correct_vals,opt_values,label='POMDP')\n",
    "plt.legend()"
   ]
  },
  {
   "cell_type": "code",
   "execution_count": null,
   "metadata": {},
   "outputs": [],
   "source": []
  }
 ],
 "metadata": {
  "kernelspec": {
   "display_name": "Python 3.8.10 64-bit",
   "language": "python",
   "name": "python3"
  },
  "language_info": {
   "codemirror_mode": {
    "name": "ipython",
    "version": 3
   },
   "file_extension": ".py",
   "mimetype": "text/x-python",
   "name": "python",
   "nbconvert_exporter": "python",
   "pygments_lexer": "ipython3",
   "version": "3.8.10"
  },
  "orig_nbformat": 4,
  "vscode": {
   "interpreter": {
    "hash": "31f2aee4e71d21fbe5cf8b01ff0e069b9275f58929596ceb00d14d90e3e16cd6"
   }
  }
 },
 "nbformat": 4,
 "nbformat_minor": 2
}
