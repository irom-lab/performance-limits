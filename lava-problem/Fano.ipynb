{
 "cells": [
  {
   "cell_type": "code",
   "execution_count": 7,
   "metadata": {},
   "outputs": [],
   "source": [
    "import numpy as np\n",
    "import cvxpy as cvx\n",
    "import matplotlib.pyplot as plt\n",
    "from lava_one_step import main as lava_problem"
   ]
  },
  {
   "cell_type": "code",
   "execution_count": 8,
   "metadata": {},
   "outputs": [],
   "source": [
    "# Definition of Fano bound\n",
    "def bound_Fano(R_perp, I):\n",
    "    return -(I+np.log(1+R_perp))/np.log(1-R_perp)\n",
    "\n",
    "def kl_inverse(q, c):\n",
    "    '''\n",
    "    Compute kl inverse using Relative Entropy Programming\n",
    "    Solves: sup p in [0,1] with KL(p,q) <= c\n",
    "    '''   \n",
    "    p_bernoulli = cvx.Variable(2)\n",
    "\n",
    "    q_bernoulli = np.array([q,1-q])\n",
    "\n",
    "    constraints = [c >= cvx.sum(cvx.kl_div(p_bernoulli,q_bernoulli)), 0 <= p_bernoulli[0], p_bernoulli[0] <= 1, p_bernoulli[1] == 1.0-p_bernoulli[0]]\n",
    "\n",
    "    prob = cvx.Problem(cvx.Maximize(p_bernoulli[0]), constraints)\n",
    "\n",
    "    # Solve problem\n",
    "    prob.solve(verbose=False, solver=cvx.MOSEK) # solver=cvx.MOSEK\n",
    "    \n",
    "    return p_bernoulli.value[0] \n",
    "\n",
    "\n",
    "def compute_RI(nx, nu, ny, T, p0, px_x, py_x, R, R0_expected):\n",
    "\t'''\n",
    "    One step Fano bound (T=1)\n",
    "    '''\n",
    "\t# Compute R_perp\n",
    "\tR_u = p0 @ R\n",
    "\tRt_perp = np.max(R_u)\n",
    "\n",
    "    # Compute mutual information\n",
    "\tpx_0 = p0 # Probability of x_0\n",
    "\tpyx_0 = py_x*px_0[None,:]  # pyx(i,j) is probability of measurement i and state j \n",
    "\tpy_0 = np.sum(pyx_0, 1)\n",
    "\n",
    "\tI = 0.0\n",
    "\tfor ii in range(0,ny):\n",
    "\t\tfor jj in range(0,nx):\n",
    "\t\t\tif (np.abs(pyx_0[ii,jj]) > 1e-5):\n",
    "\t\t\t\t# mutual information using KL divergence\n",
    "\t\t\t\tI = I + pyx_0[ii,jj]*np.log(pyx_0[ii,jj]/(py_0[ii]*px_0[jj]))\n",
    "\t\n",
    "\treturn Rt_perp, I\n",
    "\n"
   ]
  },
  {
   "cell_type": "markdown",
   "metadata": {},
   "source": [
    "### Compute our bound for one-step lava problem"
   ]
  },
  {
   "cell_type": "code",
   "execution_count": 9,
   "metadata": {},
   "outputs": [],
   "source": [
    "# One-step Lava Problem: Our bounds\n",
    "p_correct_vals = np.linspace(0.01, 0.99, 20) \n",
    "reward_xs = np.array([0.1]) \n",
    "reward_x = reward_xs[0]\n",
    "bounds = []\n",
    "for p_correct in p_correct_vals:\n",
    "    nx, nu, ny, T, p0, px_x, py_x, R, R0_expected = lava_problem(['--p_correct', str(p_correct), '--reward_x', str(reward_x)])\n",
    "    Rt_perp, I = compute_RI(nx, nu, ny, T, p0, px_x, py_x, R, R0_expected) \n",
    "    bound_inverse = kl_inverse(Rt_perp, I)\n",
    "    bounds.append(bound_inverse)\n"
   ]
  },
  {
   "cell_type": "markdown",
   "metadata": {},
   "source": [
    "### Generalized Fano's Inequality\n",
    "$R_\\text{Bayes}$: Bayesian risk \\\n",
    "$L$: Loss function \\\n",
    "$I$: Mutual information \\\n",
    "$\\theta \\in\\Theta$: Parameter describing data, $x\\sim\\mathcal X \\sim P_\\theta$ \\\n",
    "$w$: Prior distribution of true parameter $\\theta$ \n",
    "\n",
    "$$R_\\text{Bayes} (w) \\geq 1+\\frac{I(w,\\mathcal P)+\\log 2}{\\log(\\sup_{a\\in\\mathcal A}w\\{\\theta\\in\\Theta:L(\\theta,a)=0\\})}$$\n",
    "\n",
    "$$1+\\frac{\\mathbb I+\\log(1+R^\\perp)}{\\log(1-R^\\perp}\\leq \\inf_\\pi\\mathbb E[C_\\pi]$$\n",
    "\n",
    "Setting $C_\\pi=1-R_\\pi, \\sup_\\pi R_\\pi = 1-\\inf_\\pi C_\\pi$,\n",
    "\n",
    "$$1+\\frac{\\mathbb I+\\log(1+R^\\perp)}{\\log(1-R^\\perp}\\leq \\inf_\\pi\\mathbb E[C_\\pi]=1-\\sup_\\pi \\mathbb E [R_\\pi]\\\\\\sup_\\pi \\mathbb E [R_\\pi]\\leq\\frac{\\mathbb I+\\log(1+R^\\perp)}{\\log(1/(1-R^\\perp)}$$"
   ]
  },
  {
   "cell_type": "code",
   "execution_count": 10,
   "metadata": {},
   "outputs": [],
   "source": [
    "# One-step Lava Problem: Fano bounds\n",
    "\n",
    "bounds_Fano = []\n",
    "for p_correct in p_correct_vals:\n",
    "    nx, nu, ny, T, p0, px_x, py_x, R, R0_expected = lava_problem(['--p_correct', str(p_correct), '--reward_x', str(reward_x)])\n",
    "    Rt_perp, I = compute_RI(nx, nu, ny, T, p0, px_x, py_x, R, R0_expected) \n",
    "    Fano_b = bound_Fano(1-Rt_perp, I)\n",
    "    bounds_Fano.append(Fano_b)"
   ]
  },
  {
   "cell_type": "code",
   "execution_count": 12,
   "metadata": {},
   "outputs": [
    {
     "data": {
      "text/plain": [
       "2.1"
      ]
     },
     "execution_count": 12,
     "metadata": {},
     "output_type": "execute_result"
    }
   ],
   "source": [
    "np.sum(r_right)"
   ]
  },
  {
   "cell_type": "code",
   "execution_count": 6,
   "metadata": {},
   "outputs": [
    {
     "name": "stdout",
     "output_type": "stream",
     "text": [
      "0.6031875\n",
      "0.5873914473684211\n",
      "0.5715953947368422\n",
      "0.5557993421052632\n",
      "0.55\n",
      "0.5645197368421052\n",
      "0.5793486842105263\n",
      "0.5941776315789474\n",
      "0.6090065789473684\n",
      "0.6238355263157895\n",
      "0.6386644736842105\n",
      "0.6534934210526315\n",
      "0.6683223684210526\n",
      "0.6831513157894737\n",
      "0.6979802631578946\n",
      "0.7128092105263157\n",
      "0.7276381578947368\n",
      "0.742467105263158\n",
      "0.757296052631579\n",
      "0.772125\n"
     ]
    }
   ],
   "source": [
    "# 1-step POMDP Bruteforce\n",
    "import numpy as np\n",
    "p_correct_vals = np.linspace(0.01, 0.99, 20) \n",
    "r_right = np.array([0.1,1,1,0.0])\n",
    "r_left = np.array([0.1,0.1,1,1,0])\n",
    "\n",
    "p0 = 0.25\n",
    "\n",
    "def V1_b_cond_zi(p_c, i):\n",
    "    V_right = (r_right[i-1]*p_c+np.sum(np.delete(r_right,i-1))*(1-p_c)/4)*p0\n",
    "    V_left = (r_left[i-1]*p_c+np.sum(np.delete(r_left,i-1))*(1-p_c)/4)*p0\n",
    "    return max(V_right, V_left)\n",
    "\n",
    "Value_funcs = []\n",
    "for p_c in p_correct_vals:\n",
    "    Vc = 0\n",
    "    for i in range(5):\n",
    "        V1_i = V1_b_cond_zi(p_c,i)\n",
    "        Vc += V1_i\n",
    "    print(Vc)\n",
    "    Value_funcs.append(Vc)"
   ]
  },
  {
   "cell_type": "code",
   "execution_count": 1,
   "metadata": {},
   "outputs": [
    {
     "name": "stdout",
     "output_type": "stream",
     "text": [
      "***Computing value via POMDP solution***\n",
      "Optimal value:  0.325\n",
      "Optimal cost:  0.675\n",
      "***Computing value via POMDP solution***\n",
      "Optimal value:  0.325\n",
      "Optimal cost:  0.675\n",
      "***Computing value via POMDP solution***\n",
      "Optimal value:  0.32499999999999996\n",
      "Optimal cost:  0.675\n",
      "***Computing value via POMDP solution***\n",
      "Optimal value:  0.325\n",
      "Optimal cost:  0.675\n",
      "***Computing value via POMDP solution***\n",
      "Optimal value:  0.325\n",
      "Optimal cost:  0.675\n",
      "***Computing value via POMDP solution***\n",
      "Optimal value:  0.32500000000000007\n",
      "Optimal cost:  0.6749999999999999\n",
      "***Computing value via POMDP solution***\n",
      "Optimal value:  0.325\n",
      "Optimal cost:  0.675\n",
      "***Computing value via POMDP solution***\n",
      "Optimal value:  0.325\n",
      "Optimal cost:  0.675\n",
      "***Computing value via POMDP solution***\n",
      "Optimal value:  0.325\n",
      "Optimal cost:  0.675\n",
      "***Computing value via POMDP solution***\n",
      "Optimal value:  0.32500000000000007\n",
      "Optimal cost:  0.6749999999999999\n",
      "***Computing value via POMDP solution***\n",
      "Optimal value:  0.32499999999999996\n",
      "Optimal cost:  0.675\n",
      "***Computing value via POMDP solution***\n",
      "Optimal value:  0.32499999999999996\n",
      "Optimal cost:  0.675\n",
      "***Computing value via POMDP solution***\n",
      "Optimal value:  0.32500000000000007\n",
      "Optimal cost:  0.6749999999999999\n",
      "***Computing value via POMDP solution***\n",
      "Optimal value:  0.325\n",
      "Optimal cost:  0.675\n",
      "***Computing value via POMDP solution***\n",
      "Optimal value:  0.325\n",
      "Optimal cost:  0.675\n",
      "***Computing value via POMDP solution***\n",
      "Optimal value:  0.32500000000000007\n",
      "Optimal cost:  0.6749999999999999\n",
      "***Computing value via POMDP solution***\n",
      "Optimal value:  0.325\n",
      "Optimal cost:  0.675\n",
      "***Computing value via POMDP solution***\n",
      "Optimal value:  0.32499999999999996\n",
      "Optimal cost:  0.675\n",
      "***Computing value via POMDP solution***\n",
      "Optimal value:  0.32499999999999996\n",
      "Optimal cost:  0.675\n",
      "***Computing value via POMDP solution***\n",
      "Optimal value:  0.32500000000000007\n",
      "Optimal cost:  0.6749999999999999\n"
     ]
    }
   ],
   "source": [
    "import numpy as np\n",
    "from lava_problem_pomdp_one_step import main as lava_problem_pomdp\n",
    "p_correct_vals = np.linspace(0.01, 0.99, 20) \n",
    "reward_xs = np.array([0.1]) \n",
    "reward_x = reward_xs[0]\n",
    "opt_values = []\n",
    "\n",
    "for p_correct in p_correct_vals:\n",
    "    opt_value = lava_problem_pomdp(['--p_correct', str(p_correct), '--reward_x', str(reward_x)])\n",
    "    opt_values.append(opt_value)"
   ]
  },
  {
   "cell_type": "code",
   "execution_count": 11,
   "metadata": {},
   "outputs": [
    {
     "data": {
      "text/plain": [
       "<matplotlib.legend.Legend at 0x7f360f79cf40>"
      ]
     },
     "execution_count": 11,
     "metadata": {},
     "output_type": "execute_result"
    },
    {
     "data": {
      "image/png": "[encoded data removed]",
      "text/plain": [
       "<Figure size 432x288 with 1 Axes>"
      ]
     },
     "metadata": {
      "needs_background": "light"
     },
     "output_type": "display_data"
    }
   ],
   "source": [
    "plt.plot(p_correct_vals,bounds, label='Our Bounds')\n",
    "plt.plot(p_correct_vals,bounds_Fano, label='Fano Bounds')\n",
    "plt.plot(p_correct_vals,Value_funcs,label='POMDP')\n",
    "plt.legend()\n"
   ]
  },
  {
   "cell_type": "code",
   "execution_count": 24,
   "metadata": {},
   "outputs": [],
   "source": [
    "np.savez('results/compare_Fano.npz', p_correct_vals = p_correct_vals, our_bounds = bounds, Fano_bounds = bounds_Fano, POMDP_bounds = opt_values)"
   ]
  },
  {
   "cell_type": "code",
   "execution_count": 18,
   "metadata": {},
   "outputs": [
    {
     "data": {
      "image/png": "[encoded data removed]",
      "text/plain": [
       "<Figure size 432x288 with 1 Axes>"
      ]
     },
     "metadata": {
      "needs_background": "light"
     },
     "output_type": "display_data"
    }
   ],
   "source": [
    "# Plot\n",
    "# Load x-axis and POMDP data\n",
    "opt_data = np.load(\"results/lava_problem_optimal_results.npz\")\n",
    "opt_values = opt_data['opt_values']\n",
    "\n",
    "KL_data = np.load(\"results/lava_problem_Kullback_Leibler_results_f.npz\")\n",
    "KL_values = KL_data['bounds']\n",
    "\n",
    "PL_data = np.load(\"results/results5_0921.npz\")\n",
    "PL_values = PL_data['bound_results']\n",
    "\n",
    "tight_data = np.load(\"results/tightest_bounds.npz\")\n",
    "tight_values = tight_data['bounds']\n",
    "\n",
    "fig, ax = plt.subplots()\n",
    "ax.plot(p_correct_vals, opt_values, '*--', label='POMDP', linewidth=0.5)\n",
    "ax.plot(p_correct_vals, KL_values, 'o--', label='KL', linewidth=1)\n",
    "ax.plot(p_correct_vals[:16], PL_values[:16],  'o--', label='PL', linewidth=1)\n",
    "ax.plot(p_correct_vals[16:20], tight_values[16:20], 'o--', label='Tight', linewidth=1)\n",
    "\n",
    "plt.xlabel('$p_{correct}$', fontsize=15)\n",
    "plt.ylabel('Cumulative reward', fontsize=15)\n",
    "plt.legend(fontsize=12, loc='lower right')\n",
    "plt.ylim([0, 5.01])\n",
    "plt.savefig('plots/PL_n=5_1006.svg', dpi=200)"
   ]
  },
  {
   "cell_type": "code",
   "execution_count": null,
   "metadata": {},
   "outputs": [],
   "source": []
  }
 ],
 "metadata": {
  "kernelspec": {
   "display_name": "Python 3.8.10 64-bit",
   "language": "python",
   "name": "python3"
  },
  "language_info": {
   "codemirror_mode": {
    "name": "ipython",
    "version": 3
   },
   "file_extension": ".py",
   "mimetype": "text/x-python",
   "name": "python",
   "nbconvert_exporter": "python",
   "pygments_lexer": "ipython3",
   "version": "3.8.10"
  },
  "orig_nbformat": 4,
  "vscode": {
   "interpreter": {
    "hash": "31f2aee4e71d21fbe5cf8b01ff0e069b9275f58929596ceb00d14d90e3e16cd6"
   }
  }
 },
 "nbformat": 4,
 "nbformat_minor": 2
}
