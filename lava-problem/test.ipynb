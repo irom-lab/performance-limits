{
 "cells": [
  {
   "cell_type": "code",
   "execution_count": 26,
   "metadata": {},
   "outputs": [],
   "source": [
    "import numpy as np\n",
    "import cvxpy as cvx\n",
    "from scipy.optimize import optimize\n",
    "import IPython as ipy\n"
   ]
  },
  {
   "cell_type": "code",
   "execution_count": 14,
   "metadata": {},
   "outputs": [],
   "source": [
    "#Have to define functions that follow DCP rules (Disciplined convex programming)\n",
    "#List of functions: https://www.cvxpy.org/tutorial/functions/index.html#functions\n",
    "def g(x):\n",
    "    y = -cvx.entr(x) #x*log(x)\n",
    "    #if define y = x*cvx.log(x) then cvx doesn't know convexity and yields error\n",
    "    return y"
   ]
  },
  {
   "cell_type": "code",
   "execution_count": 15,
   "metadata": {},
   "outputs": [],
   "source": [
    "def f_divergence(f,p_bernoulli,q_bernoulli):\n",
    "    # frac = p/q\n",
    "    # frac1 = (1-p)/(1-q)\n",
    "\n",
    "    # p_bernoulli = np.array([p,1-p])\n",
    "    # q_bernoulli = np.array([q,1-q])\n",
    "    div = cvx.multiply(q_bernoulli,f(p_bernoulli/q_bernoulli))\n",
    "\n",
    "    return div"
   ]
  },
  {
   "cell_type": "code",
   "execution_count": 16,
   "metadata": {},
   "outputs": [],
   "source": [
    "def f_inverse(f,q,c):\n",
    "\n",
    "    '''\n",
    "    Compute f-inverse using Relative Entropy Programming\n",
    "    Solves: sup p in [0,1] with D_f(p,q) <= c\n",
    "    '''   \n",
    "    p_ber = cvx.Variable(2)\n",
    "    q_ber = np.array([q,1-q])\n",
    "\n",
    "    b = f_divergence(f,p_ber,q_ber)\n",
    "    \n",
    "    constraints = [c >= cvx.sum(b), 0 <= p_ber[0], p_ber[0] <=1, p_ber[1] == 1.0-p_ber[0]]\n",
    "\n",
    "    prob = cvx.Problem(cvx.Maximize(p_ber[0]), constraints)\n",
    "\n",
    "    # Solve problem\n",
    "    prob.solve(verbose=False, solver=cvx.SCS) # solver=cvx.MOSEK\n",
    "    \n",
    "    return p_ber.value[0]"
   ]
  },
  {
   "cell_type": "code",
   "execution_count": 17,
   "metadata": {},
   "outputs": [],
   "source": [
    "def kl_inverse(q, c):\n",
    "    '''\n",
    "    Compute kl inverse using Relative Entropy Programming\n",
    "    Solves: sup p in [0,1] with KL(p,q) <= c\n",
    "    '''   \n",
    "    p_bernoulli = cvx.Variable(2)\n",
    "\n",
    "    q_bernoulli = np.array([q,1-q])\n",
    "\n",
    "    constraints = [c >= cvx.sum(cvx.kl_div(p_bernoulli,q_bernoulli)), 0 <= p_bernoulli[0], p_bernoulli[0] <= 1, p_bernoulli[1] == 1.0-p_bernoulli[0]]\n",
    "\n",
    "    prob = cvx.Problem(cvx.Maximize(p_bernoulli[0]), constraints)\n",
    "\n",
    "    # Solve problem\n",
    "    prob.solve(verbose=False, solver=cvx.SCS) # solver=cvx.MOSEK\n",
    "    \n",
    "    return p_bernoulli.value[0] "
   ]
  },
  {
   "cell_type": "code",
   "execution_count": 23,
   "metadata": {},
   "outputs": [],
   "source": [
    "y = kl_inverse(0.1,0.8)\n",
    "x = f_inverse(g,0.1,0.8)"
   ]
  },
  {
   "cell_type": "code",
   "execution_count": 19,
   "metadata": {},
   "outputs": [],
   "source": [
    "#Test f-divergence reduces to KL-divergencce\n",
    "p_bernoulli = np.array([y,1-y])\n",
    "q_bernoulli = np.array([0.1,1-0.1])\n",
    "a = cvx.sum(cvx.kl_div(p_bernoulli,q_bernoulli))\n",
    "#print(x)\n",
    "b = f_divergence(g,p_bernoulli,q_bernoulli)\n",
    "#print(a.value,b.value)\n"
   ]
  },
  {
   "cell_type": "code",
   "execution_count": 20,
   "metadata": {},
   "outputs": [],
   "source": [
    "p_bernoulli = cvx.Variable(2)\n",
    "q_bernoulli = np.array([0.1,1-0.1])\n",
    "c = 0.8\n",
    "constraints = [c >= cvx.sum(b)]"
   ]
  },
  {
   "cell_type": "code",
   "execution_count": 24,
   "metadata": {},
   "outputs": [],
   "source": [
    "p_bernoulli = cvx.Variable(2)\n",
    "q_bernoulli = np.array([0.1,1-0.1])\n",
    "\n",
    "ga = cvx.kl_div(p_bernoulli,q_bernoulli)\n",
    "#frac = np.divide(p_bernoulli,q_bernoulli)\n",
    "gc = np.array([1/2, 0.5])\n",
    "gb = -cvx.entr(p_bernoulli/q_bernoulli)"
   ]
  },
  {
   "cell_type": "code",
   "execution_count": 61,
   "metadata": {},
   "outputs": [
    {
     "data": {
      "text/plain": [
       "'UNKNOWN'"
      ]
     },
     "execution_count": 61,
     "metadata": {},
     "output_type": "execute_result"
    }
   ],
   "source": [
    "x1 = cvx.Variable()\n",
    "x2 = 0.5*(x1+1)\n",
    "x3 = 1/x2\n",
    "y = [cvx.rel_entr(x1,x2),cvx.log(x3)]\n",
    "r = sum(y)\n",
    "r.curvature"
   ]
  },
  {
   "cell_type": "code",
   "execution_count": 60,
   "metadata": {},
   "outputs": [
    {
     "name": "stdout",
     "output_type": "stream",
     "text": [
      "1.2.1\n"
     ]
    }
   ],
   "source": [
    "print(cvx.__version__)"
   ]
  },
  {
   "cell_type": "code",
   "execution_count": 75,
   "metadata": {},
   "outputs": [
    {
     "data": {
      "text/plain": [
       "-0.3218875824868201"
      ]
     },
     "execution_count": 75,
     "metadata": {},
     "output_type": "execute_result"
    }
   ],
   "source": [
    "func = 'g'\n",
    "h = eval(func)\n",
    "h(0.2).value"
   ]
  },
  {
   "cell_type": "code",
   "execution_count": 17,
   "metadata": {},
   "outputs": [
    {
     "data": {
      "text/plain": [
       "'CONVEX'"
      ]
     },
     "execution_count": 17,
     "metadata": {},
     "output_type": "execute_result"
    }
   ],
   "source": [
    "x = cvx.Variable()\n",
    "z = 0.5*(x+1)\n",
    "y1 = (1-x)/(2*x+2)\n",
    "y2 = cvx.square(1-cvx.sqrt(x))\n",
    "y3 = cvx.rel_entr(x,z)+cvx.log(1/z)\n",
    "y4 = cvx.rel_entr(x,z)+cvx.log(2)-cvx.log1p(x)#y3.log_log_curvature\n",
    "y5 = 1-2*cvx.sqrt(x)+x\n",
    "y6 = 1/(x+1)-1/2\n",
    "y7 = cvx.inv_pos(x)-x\n",
    "y7.curvature"
   ]
  },
  {
   "cell_type": "code",
   "execution_count": 1,
   "metadata": {},
   "outputs": [
    {
     "name": "stdout",
     "output_type": "stream",
     "text": [
      "0.08494951839769863 0.08494951839769871 0.08494951839769863\n"
     ]
    }
   ],
   "source": [
    "import cvxpy as cvx\n",
    "import numpy as np\n",
    "x = 0.5\n",
    "z1 = cvx.jensen_shannon(x)\n",
    "z = 0.5*(x+1)\n",
    "z2 = cvx.rel_entr(x,z)+cvx.log(2)-cvx.log1p(x)\n",
    "z3 = x*np.log(2*x/(x+1))+np.log(2/(x+1))\n",
    "print(z1.value,z2.value, z3)"
   ]
  },
  {
   "cell_type": "code",
   "execution_count": 19,
   "metadata": {},
   "outputs": [
    {
     "name": "stdout",
     "output_type": "stream",
     "text": [
      "[4.22272467 4.07898729 3.85894258 3.60033298 3.50341384 3.71701506\n",
      " 3.89402886 4.01311081 4.08654658 4.12403907 4.15821283 4.18923116\n",
      " 4.21721254 4.24220708 4.26419468 4.28313519 4.29890384 4.31137274\n",
      " 4.32020401 4.32477747]\n"
     ]
    }
   ],
   "source": [
    "data = np.load('lava_problem_Negative_Log_results_f.npz')\n",
    "bounds = data['bounds']\n",
    "print(bounds)"
   ]
  },
  {
   "cell_type": "code",
   "execution_count": 35,
   "metadata": {},
   "outputs": [
    {
     "name": "stdout",
     "output_type": "stream",
     "text": [
      "['lava_problem_Kullback_Leibler_results_f.npz', 'lava_problem_Negative_Log_results_f.npz', 'lava_problem_Jensen_Shannon_results_f.npz', 'lava_problem_optimal_results.npz', 'lava_problem_Chi_Squared_results_f.npz', 'lava_problem_Total_Variation_results_f.npz', 'lava_problem_Squared_Hellinger_Distance_results_f.npz', 'lava_problem_Neyman_Chi_Squared_results_f.npz']\n"
     ]
    },
    {
     "data": {
      "text/plain": [
       "'/results/x'"
      ]
     },
     "execution_count": 35,
     "metadata": {},
     "output_type": "execute_result"
    }
   ],
   "source": [
    "import os\n",
    "fname = os.listdir('results')\n",
    "print(fname)\n",
    "path = '/results'\n",
    "filename = 'x'\n",
    "os.path.join(path, filename)"
   ]
  },
  {
   "cell_type": "code",
   "execution_count": 33,
   "metadata": {},
   "outputs": [
    {
     "name": "stdout",
     "output_type": "stream",
     "text": [
      "['lava_problem_Kullback_Leibler_results_f.npz', 'lava_problem_Negative_Log_results_f.npz', 'lava_problem_Jensen_Shannon_results_f.npz', 'lava_problem_Chi_Squared_results_f.npz', 'lava_problem_Total_Variation_results_f.npz', 'lava_problem_Squared_Hellinger_Distance_results_f.npz', 'lava_problem_Neyman_Chi_Squared_results_f.npz']\n"
     ]
    },
    {
     "data": {
      "image/png": "[encoded data removed]",
      "text/plain": [
       "<Figure size 432x288 with 1 Axes>"
      ]
     },
     "metadata": {
      "needs_background": "light"
     },
     "output_type": "display_data"
    }
   ],
   "source": [
    "import matplotlib.pyplot as plt\n",
    "opt_data = np.load(\"lava_problem_optimal_results.npz\")\n",
    "p_correct_vals = opt_data['p_correct_vals']\n",
    "opt_values = opt_data['opt_values']\n",
    "\n",
    "# Load all npz filenames\n",
    "fname = os.listdir()\n",
    "npz_name = []\n",
    "for i in fname:\n",
    "    if i[-5] == 'f':\n",
    "        npz_name.append(i)\n",
    "\n",
    "print (npz_name)\n",
    "# Plot\n",
    "fig, ax = plt.subplots()\n",
    "ax.plot(p_correct_vals, opt_values, '*--', label='POMDP', linewidth=0.5)\n",
    "for j in npz_name:\n",
    "    data = np.load(j)\n",
    "    bounds = data['bounds']\n",
    "    ax.plot(p_correct_vals, bounds, 'o--', label=j[13:-14], linewidth=1) # function name part -- dependent on file naming\n"
   ]
  },
  {
   "cell_type": "code",
   "execution_count": 30,
   "metadata": {},
   "outputs": [
    {
     "name": "stdout",
     "output_type": "stream",
     "text": [
      "['reward_xs', 'p_correct_vals', 'opt_values']\n"
     ]
    }
   ],
   "source": [
    "data = np.load(npz_name[4])\n",
    "print(data.files)"
   ]
  },
  {
   "cell_type": "code",
   "execution_count": null,
   "metadata": {},
   "outputs": [],
   "source": []
  }
 ],
 "metadata": {
  "kernelspec": {
   "display_name": "Python 3.7.13 ('base')",
   "language": "python",
   "name": "python3"
  },
  "language_info": {
   "codemirror_mode": {
    "name": "ipython",
    "version": 3
   },
   "file_extension": ".py",
   "mimetype": "text/x-python",
   "name": "python",
   "nbconvert_exporter": "python",
   "pygments_lexer": "ipython3",
   "version": "3.7.13"
  },
  "orig_nbformat": 4,
  "vscode": {
   "interpreter": {
    "hash": "deac690a8f78a88d7461e42f580da84f099726daa5f1976cafb33656d309052d"
   }
  }
 },
 "nbformat": 4,
 "nbformat_minor": 2
}
