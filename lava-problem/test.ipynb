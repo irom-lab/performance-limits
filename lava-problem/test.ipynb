{
 "cells": [
  {
   "cell_type": "markdown",
   "metadata": {},
   "source": [
    "# Optimize over List of Functions"
   ]
  },
  {
   "cell_type": "code",
   "execution_count": null,
   "metadata": {},
   "outputs": [],
   "source": [
    "import numpy as np\n",
    "from bound_rewards_g import compute_bound as compute_bound\n",
    "from f_func import *\n",
    "from lava_problem import main as lava_problem\n",
    "import scipy.optimize as optimize\n",
    "import matplotlib.pyplot as plt\n",
    "import gurobipy"
   ]
  },
  {
   "cell_type": "code",
   "execution_count": null,
   "metadata": {},
   "outputs": [],
   "source": [
    "# Initialize\n",
    "def g(x,c,func_list):\n",
    "    # c and func_list should have matching dimensions\n",
    "    y = 0\n",
    "    for i in range (len(func_list)):\n",
    "        y += c[i]*eval(func_list[i])(x)\n",
    "    return y\n",
    "\n",
    "# Different probabilities of sensor reporting correct state\n",
    "p_correct_vals = np.linspace(0.01, 0.99, 20) \n",
    "\n",
    "# Different rewards for being in a non-lava/goal state\n",
    "reward_xs = np.array([0.1]) \n",
    "\n",
    "#for reward_x in reward_xs:\n",
    "reward_x = reward_xs[0]\n",
    "\n",
    "bounds_f_inverse = []\n",
    "\n",
    "#Setup for finding tightest bounds\n",
    "#func_list = [ 'Kullback_Leibler', 'Total_Variation','Chi_Squared','Negative_Log']\n",
    "#func_list = [ 'Kullback_Leibler', 'Negative_Log','Total_Variation', 'Chi_Squared', 'Jensen_Shannon','Squared_Hellinger_Distance','Neyman_Chi_Squared']\n",
    "#func_list = [ 'Kullback_Leibler', 'Negative_Log','Total_Variation', 'Chi_Squared','Neyman_Chi_Squared']\n",
    "#'Negative_Log',\n",
    "\n",
    "#c01 = np.tile(np.array([0,1,0,0]),(7,1))\n",
    "#c02 = np.tile(np.array([0.5,0.5,0.5,0.5]),(1,1))\n",
    "#c03 = np.tile(np.array([0,0,0,1]),(1,1))\n",
    "#c04 = np.tile(np.array([0.1,0.1,0.3,1]),(3,1))\n",
    "#c05 = np.tile(np.array([1e-5,1e-5,1e-5,1]),(13,1))\n",
    "\n",
    "#c0 = np.concatenate((c01,c02,c03,c02,c04,c05))\n",
    "#c0 = np.concatenate((c01,c05))\n",
    "\n",
    "ca = np.tile(np.array([1e-5,1e-5,1,1e-5,1e-5]),(5,1))\n",
    "cb = np.tile(np.array([1e-5,1e-5,2,1e-5,1e-5]),(1,1))\n",
    "cc = np.tile(np.array([1e-5,1e-5,1e-5,1e-5,2]),(4,1))\n",
    "cd = np.tile(np.array([0.5,0.5,0.5,0.5,0.5]),(3,1))\n",
    "ce = np.tile(np.array([1e-5,1e-5,1,1e-5,1e-5]),(4,1))\n",
    "cf = np.tile(np.array([1e-5,1e-5,1e-5,1e-5,2]),(1,1))\n",
    "cg = np.tile(np.array([0.5,0.5,0.5,0.5,0.5]),(2,1))\n",
    "\n",
    "\n",
    "c0 = np.concatenate((ca,cb,cc,cd,ce,cf,cg))\n",
    "\n",
    "def con(c_vec):\n",
    "\treturn np.linalg.norm(c_vec)-1\n",
    "\n",
    "def con1(c_vec):\n",
    "    return list(c_vec-1e-5)\n",
    "\n",
    "def con2(c_vec):\n",
    "    return list(1-c_vec)\n",
    "\n",
    "Nfeval=1\n",
    "def callbackF(Xi):\n",
    "    global Nfeval\n",
    "    #print ('{0:4d}{1: 3.6f}{2: 3.6f}{3: 3.6f}'.format(Nfeval,Xi[0],Xi[1],bounds(Xi)))\n",
    "    print ('{0:4d}{1: 3.2f}{2: 3.2f}{3: 3.2f}{4: 3.2f}{5: 3.6f}{6: 3.6f}'.format(Nfeval,Xi[0],Xi[1],Xi[2],Xi[3],Xi[4],bounds(Xi)))\n",
    "    Nfeval += 1\n",
    "\n",
    "#cons = [{'type':'ineq','fun': con1},{'type':'eq','fun':con},{'type':'ineq','fun': con2}]\n",
    "cons = [{'type':'ineq','fun': con1},{'type':'ineq','fun': con2}]\n",
    "\n",
    "def bounds(c_vec):\n",
    "    nx, nu, ny, T, p0, px_x, py_x, R, R0_expected = lava_problem(['--p_correct', str(p_correct), '--reward_x', str(reward_x)])\n",
    "    ################################################################################\n",
    "\n",
    "\n",
    "    ################################################################################\n",
    "    # Compute f-inverse bound\n",
    "    # t_start = time.time()\n",
    "    bound_f_inverse = compute_bound(g,c_vec,func_list, nx, nu, ny, T, p0, px_x, py_x, R, R0_expected) \n",
    "    # t_end = time.time()\n",
    "    bounds_f_inverse.append(bound_f_inverse)\n",
    "    #print(\"Bound: \", bound_f_inverse)\n",
    "    # print(\"Bound computation time: \", t_end - t_start)\n",
    "    ################################################################################\n",
    "    return bound_f_inverse\n"
   ]
  },
  {
   "cell_type": "code",
   "execution_count": null,
   "metadata": {},
   "outputs": [],
   "source": [
    "\n",
    "p_correct = p_correct_vals[17]\n",
    "#c = np.array([0.5,0.5,0.5,0.5,0.5])\n",
    "c = np.array([1e-5,1e-5,1e-5,1e-5,2])\n",
    "#c = np.array([1e-5,1e-5,1,1e-5,1e-5])\n",
    "Nfeval=1\n",
    "res1 = optimize.minimize(bounds,c, constraints = cons, callback=callbackF, options={'disp':True})\n"
   ]
  },
  {
   "cell_type": "code",
   "execution_count": null,
   "metadata": {},
   "outputs": [],
   "source": [
    "# Loop\n",
    "coefs = []\n",
    "vals = []\n",
    "results = []\n",
    "for ind in range(17, 20):\n",
    "#for p_correct in p_correct_vals:\n",
    "\tp_correct = p_correct_vals[ind]\n",
    "\tdef bounds(c_vec):\n",
    "\t\tnx, nu, ny, T, p0, px_x, py_x, R, R0_expected = lava_problem(['--p_correct', str(p_correct), '--reward_x', str(reward_x)])\n",
    "\t\tbound_f_inverse = compute_bound(g,c_vec,func_list, nx, nu, ny, T, p0, px_x, py_x, R, R0_expected) \n",
    "\t\tbounds_f_inverse.append(bound_f_inverse)\n",
    "\t\treturn bound_f_inverse\n",
    "\n",
    "\t#ind = np.where(p_correct_vals == p_correct)[0][0]\n",
    "\n",
    "\tres = optimize.minimize(bounds,c0[ind], constraints = cons, callback=callbackF, options={'disp':True})\n",
    "\tresults.append(res)\n",
    "\tcoefs.append(res.x)\n",
    "\tvals.append(res.fun)\n"
   ]
  },
  {
   "cell_type": "markdown",
   "metadata": {},
   "source": [
    "# Pick Tightest Bounds"
   ]
  },
  {
   "cell_type": "code",
   "execution_count": null,
   "metadata": {},
   "outputs": [],
   "source": [
    "bounds_f_inverse = []\n",
    "func_list = ['Kullback_Leibler', 'Negative_Log', 'Total_Variation', 'Chi_Squared', 'Jensen_Shannon', 'Squared_Hellinger_Distance','Neyman_Chi_Squared']\n",
    "\n",
    "def tight_bound(p_correct):\n",
    "    ################################################################################\n",
    "    # Lava problem\n",
    "    nx, nu, ny, T, p0, px_x, py_x, R, R0_expected = lava_problem(['--p_correct', str(p_correct), '--reward_x', str(reward_x)])\n",
    "    ################################################################################\n",
    "    \n",
    "    bounds_tight = np.zeros(len(func_list))\n",
    "    for i in range(len(func_list)):\n",
    "        c_vec = np.zeros(len(func_list))\n",
    "        c_vec[i]=1\n",
    "        ################################################################################\n",
    "        # Compute f-inverse bound\n",
    "        bound_f_inverse = compute_bound(g,c_vec,func_list, nx, nu, ny, T, p0, px_x, py_x, R, R0_expected)\n",
    "        bounds_tight[i]=bound_f_inverse\n",
    "        ################################################################################\n",
    "    \n",
    "    bound_tight = np.amin(bounds_tight)\n",
    "    fun = np.where(bounds_tight == bound_tight)[0][0]\n",
    "\n",
    "    print(\"Bound: \", bound_tight, func_list[fun])\n",
    "    return bound_tight, fun\n",
    "\n",
    "for p_correct in p_correct_vals:\n",
    "    bound_f_inverse = tight_bound(p_correct)\n",
    "    bounds_f_inverse.append(bound_f_inverse)\n"
   ]
  },
  {
   "cell_type": "markdown",
   "metadata": {},
   "source": [
    "# Plots"
   ]
  },
  {
   "cell_type": "code",
   "execution_count": 62,
   "metadata": {},
   "outputs": [],
   "source": [
    "bds = []\n",
    "for i in results:\n",
    "    bds.append(i[1])\n",
    "#bds = [4.10549890726847,5,5,3.6768940702048005,3.6768940702048,3.676894070204799,3.7181342298278213,3.859663124227767,3.923903566402169,3.9475951125023236,5,5,4.105327439930643,5,5,5,5,5,4.324995749999707]"
   ]
  },
  {
   "cell_type": "code",
   "execution_count": 63,
   "metadata": {},
   "outputs": [
    {
     "data": {
      "image/png": "[encoded data removed]",
      "text/plain": [
       "<Figure size 432x288 with 1 Axes>"
      ]
     },
     "metadata": {
      "needs_background": "light"
     },
     "output_type": "display_data"
    }
   ],
   "source": [
    "import matplotlib.pyplot as plt\n",
    "# Plot POMDP v picked tightest bounds\n",
    "opt_data = np.load(\"results/lava_problem_optimal_results.npz\")\n",
    "p_correct_vals = opt_data['p_correct_vals']\n",
    "opt_values = opt_data['opt_values']\n",
    "\n",
    "# Plot\n",
    "fig, ax = plt.subplots()\n",
    "ax.plot(p_correct_vals, opt_values, '*--', label='POMDP', linewidth=0.5)\n",
    "\n",
    "data = np.load(\"tightest_bounds.npz\")\n",
    "bounds = data['bounds']\n",
    "ax.plot(p_correct_vals, bounds, 'o--', label='tightest', linewidth=1) \n",
    "\n",
    "ax.plot(p_correct_vals, bds, 'o--', label = 'piecewise linear', linewidth = 1)\n",
    "\n",
    "plt.xlabel('$p_{correct}$', fontsize=15)\n",
    "plt.ylabel('Cumulative reward', fontsize=15)\n",
    "plt.legend(fontsize=12, loc='lower right')\n",
    "plt.ylim([0, 5.01])\n",
    "plt.savefig('PLn=2.svg', dpi=200)\n",
    "plt.show() "
   ]
  },
  {
   "cell_type": "code",
   "execution_count": null,
   "metadata": {},
   "outputs": [],
   "source": [
    "# Plot POMDP v optimized tightest bounds v KL bounds\n",
    "\n",
    "opt_data = np.load(\"results/lava_problem_optimal_results.npz\")\n",
    "p_correct_vals = opt_data['p_correct_vals']\n",
    "opt_values = opt_data['opt_values']\n",
    "\n",
    "fig, ax = plt.subplots()\n",
    "ax.plot(p_correct_vals, opt_values, '*--', label='POMDP', linewidth=0.5)\n",
    "ax.plot(p_correct_vals,vals,'.--', label='Optimized Bounds', linewidth=1)\n",
    "\n",
    "data = np.load(\"results/lava_problem_Kullback_Leibler_results_f.npz\")\n",
    "bounds = data['bounds']\n",
    "ax.plot(p_correct_vals, bounds, '.--', label='KL', linewidth=1)\n",
    "\n",
    "#data = np.load(\"tightest_bounds.npz\")\n",
    "#bounds = data['bounds']\n",
    "#ax.plot(p_correct_vals, bounds, '.--', label='Tightest Bounds', linewidth=1)\n",
    "\n",
    "plt.xlabel('$p_{correct}$', fontsize=15)\n",
    "plt.ylabel('Cumulative reward', fontsize=15)\n",
    "plt.legend(fontsize=12, loc='lower right')\n",
    "plt.ylim([0, 5.01])\n",
    "plt.savefig('Tight_Bounds_vs_KL_5.svg', dpi=200)\n",
    "plt.show() \n"
   ]
  },
  {
   "cell_type": "markdown",
   "metadata": {},
   "source": [
    "# Piecewise Linear Function"
   ]
  },
  {
   "cell_type": "code",
   "execution_count": 1,
   "metadata": {},
   "outputs": [],
   "source": [
    "import numpy as np\n",
    "from bound_rewards_l import *\n",
    "from lava_problem import main as lava_problem\n",
    "import scipy.optimize as optimize\n",
    "import matplotlib.pyplot as plt\n",
    "# from multiprocessing import Pool\n",
    "import cvxpy as cvx"
   ]
  },
  {
   "cell_type": "code",
   "execution_count": 6,
   "metadata": {},
   "outputs": [
    {
     "data": {
      "image/png": "[encoded data removed]",
      "text/plain": [
       "<Figure size 1200x800 with 1 Axes>"
      ]
     },
     "metadata": {
      "needs_background": "light"
     },
     "output_type": "display_data"
    }
   ],
   "source": [
    "n=5\n",
    "svec=[-5,-4,-3,-2,-1,0,1,2,3,4]\n",
    "\n",
    "k = 1000\n",
    "xt = np.linspace(0,2,k)\n",
    "yt = np.linspace(0,2,k)\n",
    "\n",
    "\n",
    "def l(x,n,svec):\n",
    "    # x is the independent variable\n",
    "    # n is the number of slices\n",
    "    # svec is the slope vector with dimension (n,1), starting from 1 to 0 backwards\n",
    "    intercept = [-s/n for s in svec]\n",
    "    output = [0]*(2*n)\n",
    "    for i in range(n):\n",
    "        output[i] = svec[i]*(x-(i+1)/n)+sum(intercept[(i+1):n])\n",
    "    for i in range(n,2*n):\n",
    "        output[i] = svec[i]*(x-i/n)-sum(intercept[n:i])\n",
    "    return cvx.max(cvx.vstack(output),axis=0)\n",
    "\n",
    "\n",
    "for i in range(k):\n",
    "    yt[i] = l(xt[i],n,svec).value\n",
    "    \n",
    "plt.plot(xt,yt)\n",
    "plt.plot(1,0,'o')\n",
    "plt.gcf().set_dpi(200)\n",
    "plt.show()"
   ]
  },
  {
   "cell_type": "code",
   "execution_count": 7,
   "metadata": {},
   "outputs": [],
   "source": [
    "n = 50 # 50 slices on interval [0,1]\n",
    "svec = np.zeros(n) # set initial guesses to be 0\n",
    "\n",
    "# Setups for lava problem\n",
    "p_correct_vals = np.linspace(0.01, 0.99, 20) \n",
    "reward_xs = np.array([0.1]) \n",
    "reward_x = reward_xs[0]\n",
    "\n",
    "# Constraint: from 0 to 2, each slope has to be larger\n",
    "# So elements in the slope vector need to be in increasing order\n",
    "def con(svec):\n",
    "    out = []\n",
    "    for i in range(len(svec)-1):\n",
    "        out.append(svec[i+1]-svec[i])\n",
    "    return out\n",
    "def con1(svec):\n",
    "    return l(0,n,svec)-1\n",
    "cons = [{'type':'ineq','fun': con}]\n",
    "\n",
    "# Print optimization progress\n",
    "def callbackF(svec,status):\n",
    "    #global Nfeval\n",
    "    print (svec,bounds(svec))\n",
    "    #Nfeval += 1\n"
   ]
  },
  {
   "cell_type": "code",
   "execution_count": 9,
   "metadata": {},
   "outputs": [
    {
     "name": "stderr",
     "output_type": "stream",
     "text": [
      "/Users/dell/opt/anaconda3/lib/python3.7/site-packages/distributed/deploy/spec.py:268: UserWarning: \n",
      "Could not launch service 'dashboard' on port 8787. Got the following message:\n",
      "\n",
      "failed to validate _ServerOpts(...).prefix: expected a value of type str, got None of type NoneType\n",
      "  self.scheduler = await self.scheduler\n"
     ]
    },
    {
     "data": {
      "text/html": [
       "<table style=\"border: 2px solid white;\">\n",
       "<tr>\n",
       "<td style=\"vertical-align: top; border: 0px solid white\">\n",
       "<h3 style=\"text-align: left;\">Client</h3>\n",
       "<ul style=\"text-align: left; list-style: none; margin: 0; padding: 0;\">\n",
       "  <li><b>Scheduler: </b>tcp://127.0.0.1:51934</li>\n",
       "</ul>\n",
       "</td>\n",
       "<td style=\"vertical-align: top; border: 0px solid white\">\n",
       "<h3 style=\"text-align: left;\">Cluster</h3>\n",
       "<ul style=\"text-align: left; list-style:none; margin: 0; padding: 0;\">\n",
       "  <li><b>Workers: </b>2</li>\n",
       "  <li><b>Cores: </b>8</li>\n",
       "  <li><b>Memory: </b>8.59 GB</li>\n",
       "</ul>\n",
       "</td>\n",
       "</tr>\n",
       "</table>"
      ],
      "text/plain": [
       "<Client: 'tcp://127.0.0.1:51934' processes=2 threads=8, memory=8.59 GB>"
      ]
     },
     "execution_count": 9,
     "metadata": {},
     "output_type": "execute_result"
    }
   ],
   "source": [
    "from dask.distributed import Client, progress\n",
    "client = Client(n_workers=2)\n",
    "client"
   ]
  },
  {
   "cell_type": "code",
   "execution_count": 16,
   "metadata": {},
   "outputs": [],
   "source": [
    "import dask\n",
    "\n",
    "n = 2 # n slices on interval [0,1]\n",
    "svec = [0]*(2*n) # set initial guesses to be 0\n",
    "def bounds(svec, p_correct = p_correct_vals[0]):\n",
    "\t\tnx, nu, ny, T, p0, px_x, py_x, R, R0_expected = lava_problem(['--p_correct', str(p_correct), '--reward_x', str(reward_x)])\n",
    "\t\tbound_f_inverse = compute_bound(l,n,svec, nx, nu, ny, T, p0, px_x, py_x, R, R0_expected) \n",
    "\t\treturn bound_f_inverse\n",
    "\n",
    "def minimize(p_correct):\n",
    "\tres = optimize.minimize(bounds,svec,method = 'trust-constr', constraints = cons, callback = callbackF, args = (p_correct), options={'disp':True})\n",
    "\treturn[res.x, res.fun]\n",
    "\n",
    "args = [(i) for i in p_correct_vals[0:1]]\n",
    "# fut = client.map(minimize,args)\n",
    "futures = []\n",
    "for p in args:\n",
    "    future = client.submit(minimize,p)\n",
    "    futures.append(future)\n"
   ]
  },
  {
   "cell_type": "code",
   "execution_count": 17,
   "metadata": {},
   "outputs": [
    {
     "name": "stdout",
     "output_type": "stream",
     "text": [
      "[0. 0. 0. 0.] 4.32499575\n"
     ]
    },
    {
     "name": "stderr",
     "output_type": "stream",
     "text": [
      "/Users/dell/opt/anaconda3/lib/python3.7/site-packages/scipy/optimize/_hessian_update_strategy.py:186: UserWarning: delta_grad == 0.0. Check if the approximated function is linear. If the function is linear better results can be obtained by defining the Hessian as zero instead of using quasi-Newton approximations.\n",
      "  'approximations.', UserWarning)\n"
     ]
    },
    {
     "name": "stdout",
     "output_type": "stream",
     "text": [
      "[-0.29913747 -0.01123547  0.26543105  0.80752862] 4.11989550625632\n",
      "[-0.29913749 -0.01123549  0.26543107  0.80752864] 4.119895501799658\n",
      "[-0.3728275  -0.07752091  0.36179759  0.87921937] 4.105758481558939\n",
      "[-0.44659301 -0.14387422  0.45826282  0.95098355] 4.095385449110601\n",
      "[-0.44659301 -0.14387422  0.45826282  0.95098355] 4.095385449110601\n",
      "[-0.48948454 -0.18245589  0.51435329  0.99271141] 4.090163509680615\n",
      "[-0.51874172 -0.20877324  0.55261375  1.02117482] 4.087346534906614\n",
      "[-0.54520439 -0.23257688  0.58721973  1.04691954] 4.085180865811853\n",
      "[-0.5691838  -0.2541468   0.6185783   1.07024838] 4.083468780667979\n",
      "[-0.59113921 -0.2738961   0.64729003  1.09160814] 4.082073738028841\n",
      "[-0.61141825 -0.29213749  0.67380952  1.11133701] 4.0809095641288256\n",
      "[-0.630287   -0.3091103   0.69848475  1.12969387] 4.079919244403706\n",
      "[-0.64795197 -0.32500029  0.72158576  1.14687959] 4.079063540052736\n",
      "[-0.66457594 -0.33995388  0.74332541  1.16305256] 4.078314523449381\n",
      "[-0.68028917 -0.35408825  0.76387406  1.17833951] 4.07765174219546\n",
      "[-0.68028917 -0.35408825  0.76387406  1.17833951] 4.07765174219546\n",
      "[-0.69033665 -0.36312617  0.77701345  1.18811441] 4.077249075736056\n",
      "[-0.70003386 -0.37184903  0.7896948   1.19754855] 4.076875026776826\n",
      "[-0.70940366 -0.38027739  0.80194799  1.20666417] 4.076526472157549\n",
      "[-0.71847143 -0.38843407  0.8138062   1.21548595] 4.076200570572394\n",
      "[-0.7272596  -0.39633926  0.82529878  1.22403573] 4.075894906861825\n",
      "[-0.73578797 -0.40401075  0.83645162  1.23233275] 4.075607418442303\n",
      "[-0.74407415 -0.41146441  0.84728774  1.24039416] 4.0753363289593105\n",
      "[-0.75213398 -0.41871446  0.85782786  1.24823536] 4.075080096802269\n",
      "[-0.75998171 -0.42577373  0.86809063  1.25587022] 4.074837376908389\n",
      "[-0.76763011 -0.43265371  0.87809272  1.26331116] 4.074606994307429\n",
      "[-0.77509071 -0.43936476  0.88784923  1.2705694 ] 4.07438791444285\n",
      "[-0.78237414 -0.44591646  0.89737405  1.27765528] 4.074179218064523\n",
      "[-0.78948993 -0.45231736  0.90667965  1.28457807] 4.073980092846677\n",
      "[-0.79644711 -0.4585756   0.91577783  1.29134655] 4.073789805648492\n",
      "[-0.80325356 -0.46469826  0.92467891  1.2979684 ] 4.07360771112608\n",
      "[-0.8099167  -0.47069201  0.93339257  1.30445082] 4.073433224540357\n",
      "[-0.81644349 -0.47656312  0.94192792  1.3108006 ] 4.073265815915487\n",
      "[-0.82284014 -0.48231717  0.9502931   1.31702377] 4.0731050115138006\n",
      "[-0.82911257 -0.48795949  0.95849583  1.32312609] 4.072950377601081\n",
      "[-0.83526623 -0.49349498  0.96654325  1.32911287] 4.072801521038434\n",
      "[-0.84130611 -0.49892813  0.97444188  1.33498895] 4.072658085068804\n",
      "[-0.847237   -0.50426324  0.98219797  1.34075901] 4.072519740643591\n",
      "[-0.85306331 -0.50950428  0.98981731  1.34642732] 4.07238618736646\n",
      "[-0.85878913 -0.51465494  0.99730524  1.35199787] 4.07225715045036\n",
      "[-0.86441824 -0.51971861  1.0046667   1.35747434] 4.072132378264629\n",
      "[-1.19451318 -0.81665571  1.43634791  1.67861823] 4.067222220195618\n",
      "[-1.19451318 -0.81665571  1.43634791  1.67861824] 4.067222219965155\n",
      "[-1.19451318 -0.81665572  1.43634791  1.67861824] 4.067222219741043\n",
      "[-1.19451318 -0.81665572  1.43634792  1.67861824] 4.067222219516932\n",
      "[-1.19451319 -0.81665573  1.43634792  1.67861825] 4.06722221929282\n",
      "[-1.15141218 -1.14010668  1.48906809  1.84865634] 4.053485363409188\n",
      "[-1.15141218 -1.14010668  1.48906809  1.84865634] 4.053485363409188\n",
      "[-1.15141218 -1.14010668  1.48906809  1.84865634] 4.053485363409188\n",
      "[-1.15066871 -1.14569846  1.48998122  1.85159667] 4.053282414834607\n",
      "[-1.15066871 -1.14569846  1.48998122  1.85159667] 4.053282414834607\n",
      "[-1.15020409 -1.14919738  1.4905532   1.85343678] 4.053155952020625\n",
      "[-1.15020409 -1.14919738  1.4905532   1.85343678] 4.053155952020625\n",
      "[-1.15010976 -1.14990864  1.4906696   1.85381089] 4.053130296336649\n",
      "[-1.15010976 -1.14990864  1.4906696   1.85381089] 4.053130296336649\n",
      "[-1.15009094 -1.15005073  1.49069288  1.85388563] 4.05312517387024\n",
      "[-1.15009094 -1.15005073  1.49069288  1.85388563] 4.05312517387024\n",
      "[-1.15008718 -1.15007914  1.49069754  1.85390058] 4.053124149756536\n",
      "[-1.15008718 -1.15007914  1.49069754  1.85390058] 4.053124149756536\n",
      "[-1.15008643 -1.15008482  1.49069847  1.85390357] 4.053123944959616\n",
      "[-1.15008644 -1.15008483  1.49069847  1.85390358] 4.053123944959615\n",
      "[-1.15008644 -1.15008483  1.49069847  1.85390358] 4.053123944959615\n",
      "`gtol` termination condition is satisfied.\n",
      "Number of iterations: 63, function evaluations: 265, CG iterations: 193, optimality: 3.64e-09, constraint violation: 0.00e+00, execution time: 3.4e+02 s.\n"
     ]
    }
   ],
   "source": [
    "results = client.gather(futures)\n",
    "future.result"
   ]
  },
  {
   "cell_type": "code",
   "execution_count": 94,
   "metadata": {},
   "outputs": [
    {
     "name": "stderr",
     "output_type": "stream",
     "text": [
      "distributed.nanny - WARNING - Worker process still alive after 3 seconds, killing\n",
      "distributed.nanny - WARNING - Worker process still alive after 3 seconds, killing\n",
      "distributed.nanny - WARNING - Worker process still alive after 3 seconds, killing\n",
      "distributed.nanny - WARNING - Worker process still alive after 3 seconds, killing\n"
     ]
    }
   ],
   "source": [
    "client.close()\n",
    "del futures"
   ]
  },
  {
   "cell_type": "code",
   "execution_count": 33,
   "metadata": {},
   "outputs": [],
   "source": [
    "# results5 = client.gather(futures)\n",
    "results5 = [0]*20\n",
    "for i in [0,3,4,5,6,7,8,9,12,18,19]:\n",
    "    results5[i] = futures[i].result()"
   ]
  },
  {
   "cell_type": "code",
   "execution_count": null,
   "metadata": {},
   "outputs": [],
   "source": [
    "n = 2 # n slices on interval [0,1]\n",
    "svec = [0]*n # set initial guesses to be 0\n",
    "def bounds(svec, p_correct = p_correct_vals[0]):\n",
    "\t\tnx, nu, ny, T, p0, px_x, py_x, R, R0_expected = lava_problem(['--p_correct', str(p_correct), '--reward_x', str(reward_x)])\n",
    "\t\tbound_f_inverse = compute_bound(l,n,svec, nx, nu, ny, T, p0, px_x, py_x, R, R0_expected) \n",
    "\t\treturn bound_f_inverse\n",
    "\n",
    "def minimize(args):\n",
    "\tf,x,a = args\n",
    "\tres = optimize.minimize(f,x,method = 'trust-constr', constraints = cons, callback = callbackF, args = (a))\n",
    "\treturn[res.x, res.fun]\n",
    "\n",
    "args = [(bounds,svec,p_correct_vals[i]) for i in range(4)]\n",
    "p = Pool(4)\n",
    "print(p.map(minimize,args))\n"
   ]
  },
  {
   "cell_type": "code",
   "execution_count": null,
   "metadata": {},
   "outputs": [],
   "source": [
    "p_correct_vals[0]"
   ]
  },
  {
   "cell_type": "code",
   "execution_count": null,
   "metadata": {},
   "outputs": [],
   "source": [
    "n=2\n",
    "svec = [-0.5,-0.5]\n",
    "print(f_divergence(l,n,svec,np.array([0.4,0.6]),np.array([0.6,0.4])).value)\n",
    "# cvx.kl_div(np.array([0.4,0.6]),np.array([0.6,0.4])).value\n",
    "def f_divergence1(f,p,q):\n",
    "    div = cvx.multiply(q,f(p/q))\n",
    "    return div\n",
    "def f(x):\n",
    "    return 0.5*cvx.abs(x-1)\n",
    "print(f_divergence1(f,np.array([0.4,0.6]),np.array([0.6,0.4])).value)\n",
    "# cvx.multiply(0.4,l(0.6/0.4,n,svec)).value\n",
    "p = np.array([0.4,0.6])\n",
    "q = np.array([0.6,0.4])\n",
    "print(cvx.multiply(q,l(p/q,n,svec)).value)\n",
    "print(cvx.multiply(q,f(p/q)).value)\n",
    "print(l(p/q,n,svec).value,f(p/q))\n"
   ]
  },
  {
   "cell_type": "code",
   "execution_count": null,
   "metadata": {},
   "outputs": [],
   "source": [
    "from bound_rewards_l import compute_bound as compute_bound_l\n",
    "from bound_rewards_f import compute_bound as compute_bound_f\n",
    "p_correct = p_correct_vals[0]\n",
    "nx, nu, ny, T, p0, px_x, py_x, R, R0_expected = lava_problem(['--p_correct', str(p_correct), '--reward_x', str(reward_x)])\n",
    "bound_l= compute_bound_l(l,n,svec, nx, nu, ny, T, p0, px_x, py_x, R, R0_expected) \n",
    "bound_f= compute_bound_f(f, nx, nu, ny, T, p0, px_x, py_x, R, R0_expected) \n",
    "print(bound_l,bound_f)"
   ]
  },
  {
   "cell_type": "code",
   "execution_count": null,
   "metadata": {},
   "outputs": [],
   "source": [
    "# Loop\n",
    "coefs = []\n",
    "vals = []\n",
    "results = []\n",
    "for ind in range(20):\n",
    "#for p_correct in p_correct_vals:\n",
    "\tp_correct = p_correct_vals[ind]\n",
    "\tdef bounds(svec):\n",
    "\t\tnx, nu, ny, T, p0, px_x, py_x, R, R0_expected = lava_problem(['--p_correct', str(p_correct), '--reward_x', str(reward_x)])\n",
    "\t\tbound_f_inverse = compute_bound(l,n,svec, nx, nu, ny, T, p0, px_x, py_x, R, R0_expected) \n",
    "\t\treturn bound_f_inverse\n",
    "\n",
    "\tres = optimize.minimize(bounds,svec, constraints = cons, callback=callbackF, options={'disp':True})\n",
    "\tresults.append(res)\n",
    "\tcoefs.append(res.x)\n",
    "\tvals.append(res.fun)\n"
   ]
  },
  {
   "cell_type": "code",
   "execution_count": null,
   "metadata": {},
   "outputs": [],
   "source": [
    "np.savez('piecewiselinear.npz',reward_xs=reward_xs, p_correct_vals=p_correct_vals, slopes = coefs, bounds = vals, results = results)"
   ]
  },
  {
   "cell_type": "code",
   "execution_count": null,
   "metadata": {},
   "outputs": [],
   "source": [
    "# Plot POMDP v picked tightest bounds\n",
    "opt_data = np.load(\"results/lava_problem_optimal_results.npz\")\n",
    "p_correct_vals = opt_data['p_correct_vals']\n",
    "opt_values = opt_data['opt_values']\n",
    "\n",
    "# Plot\n",
    "fig, ax = plt.subplots()\n",
    "ax.plot(p_correct_vals, opt_values, '*--', label='POMDP', linewidth=0.5)\n",
    "\n",
    "data = np.load(\"piecewiselinear.npz\")\n",
    "bounds = data['bounds']\n",
    "ax.plot(p_correct_vals, bounds, 'o--', label='Piecewise-linear Functions', linewidth=1) \n",
    "\n",
    "plt.xlabel('$p_{correct}$', fontsize=15)\n",
    "plt.ylabel('Cumulative reward', fontsize=15)\n",
    "plt.legend(fontsize=12, loc='lower right')\n",
    "plt.ylim([0, 5.01])\n",
    "plt.savefig('piecewiselinear.svg', dpi=200)\n",
    "plt.show() "
   ]
  },
  {
   "cell_type": "code",
   "execution_count": null,
   "metadata": {},
   "outputs": [],
   "source": [
    "x = np.array([0,1])\n",
    "intercept = [0]*n\n",
    "output = [0]*n\n",
    "for i in range(n):\n",
    "    intercept[i] = -svec[i]/n\n",
    "    output[i] = svec[i]*(x-1+i/n)+sum(intercept[0:i])\n",
    "cvx.max(cvx.vstack(output),axis=0).value"
   ]
  },
  {
   "cell_type": "code",
   "execution_count": null,
   "metadata": {},
   "outputs": [],
   "source": [
    "cvx.vstack(output).value"
   ]
  },
  {
   "cell_type": "code",
   "execution_count": null,
   "metadata": {},
   "outputs": [],
   "source": [
    "def square(x, a=1):\n",
    "    return (x-a)**2+1\n",
    "\n",
    "def minimize(args):\n",
    "    f,x,a = args\n",
    "    res = optimize.minimize(f, x, args = (a))\n",
    "    return [res.x,res.fun]\n",
    "\n",
    "# your a values\n",
    "a = list(range(10))\n",
    "\n",
    "# initial guess for all the x values\n",
    "x = [25]*len(a)\n",
    "\n",
    "args = [(square,x[i],a[i]) for i in range(10)]\n",
    "p = Pool(4)\n",
    "print(p.map(minimize,args))\n"
   ]
  },
  {
   "cell_type": "code",
   "execution_count": 34,
   "metadata": {},
   "outputs": [
    {
     "name": "stdout",
     "output_type": "stream",
     "text": [
      "[[array([13.25444505, -5.01946962, -5.01947713, -5.01947723, -5.01948808]), 4.10549890726847], 0, 0, [array([ 0.74362912,  0.39959574,  0.18895766, -0.01363215, -0.31363924]), 3.6768940702048005], [array([ 0.74362912,  0.39959574,  0.18895766, -0.01363215, -0.31363924]), 3.6768940702048], [array([ 0.74362912,  0.39959574,  0.18895767, -0.01363215, -0.31363924]), 3.676894070204799], [array([ 0.74362926,  0.39959578,  0.18895769, -0.01363219, -0.31363939]), 3.7181342298278213], [array([ 0.73986268,  0.44117645,  0.19157707, -0.00972343, -0.31559335]), 3.859663124227767], [array([ 1.99352432,  1.99341765, -0.03110151, -0.86097549, -2.22412347]), 3.923903566402169], [array([ 1.23204433,  1.23203498,  1.04861876, -0.74371116, -1.57130549]), 3.9475951125023236], 0, 0, [array([ 1.01827971,  1.01826236,  1.01817703, -0.51030393, -1.05845495]), 4.105327439930643], 0, 0, 0, 0, 0, [array([ 2.06804341e+00,  8.81918883e-01,  4.09938379e-05, -8.83023190e-01,\n",
      "       -2.07088487e+00]), 4.324995749999707], [array([ 0.38510282,  0.13541397,  0.11624287,  0.10832279, -0.21137731]), 4.324995749999515]]\n"
     ]
    }
   ],
   "source": [
    "print(results5)"
   ]
  },
  {
   "cell_type": "code",
   "execution_count": 68,
   "metadata": {},
   "outputs": [
    {
     "data": {
      "text/plain": [
       "4.105498907243102"
      ]
     },
     "execution_count": 68,
     "metadata": {},
     "output_type": "execute_result"
    }
   ],
   "source": [
    "svec = [13.25444505, -5.01946962, -5.01947713, -5.01947723, -5.01948808]\n",
    "bounds(svec)"
   ]
  },
  {
   "cell_type": "code",
   "execution_count": 6,
   "metadata": {},
   "outputs": [],
   "source": [
    "data = np.load(\"results5_0913.npz\")\n",
    "#p_correct_vals = data['p_correct_vals']\n",
    "slopes = data['slopes']\n",
    "bounds = data['bound_results']\n",
    "n = len(slopes)"
   ]
  },
  {
   "cell_type": "code",
   "execution_count": 12,
   "metadata": {},
   "outputs": [
    {
     "name": "stdout",
     "output_type": "stream",
     "text": [
      "[-1.41934742 -1.41934183 -1.41933922 -1.41933766 -1.41933696 -1.41932075\n",
      "  1.04748891  1.562446    2.28203037  3.63071698]\n"
     ]
    }
   ],
   "source": [
    "for i in range(1):\n",
    "\tfor j in range(1):\n",
    "\t\tprint(slopes[i*4+j])"
   ]
  },
  {
   "cell_type": "code",
   "execution_count": 25,
   "metadata": {},
   "outputs": [
    {
     "data": {
      "text/plain": [
       "[[[-1, -1, -1, -1, -1, 1, 1, 1, 1, 1],\n",
       "  [-1, -1, -1, -1, -1, 1, 1, 1, 1, 1],\n",
       "  [-1, -1, -1, -1, -1, 1, 1, 1, 1, 1],\n",
       "  [-1, -1, -1, -1, -1, 1, 1, 1, 1, 1],\n",
       "  [-1, -1, -1, -1, -1, 1, 1, 1, 1, 1],\n",
       "  [-1, -1, -1, -1, -1, 1, 1, 1, 1, 1],\n",
       "  [-10, -5, -3, -2, -1.25, -0.83, -0.6, -0.43, -0.35, -0.28],\n",
       "  [-10, -5, -3, -2, -1.25, -0.83, -0.6, -0.43, -0.35, -0.28],\n",
       "  [-10, -5, -3, -2, -1.25, -0.83, -0.6, -0.43, -0.35, -0.28],\n",
       "  [-10, -5, -3, -2, -1.25, -0.83, -0.6, -0.43, -0.35, -0.28],\n",
       "  [-10, -5, -3, -2, -1.25, -0.83, -0.6, -0.43, -0.35, -0.28],\n",
       "  [-10, -5, -3, -2, -1.25, -0.83, -0.6, -0.43, -0.35, -0.28],\n",
       "  [-10, -5, -3, -2, -1.25, -0.83, -0.6, -0.43, -0.35, -0.28],\n",
       "  [-10, -5, -3, -2, -1.25, -0.83, -0.6, -0.43, -0.35, -0.28],\n",
       "  [-10, -5, -3, -2, -1.25, -0.83, -0.6, -0.43, -0.35, -0.28],\n",
       "  [-10, -5, -3, -2, -1.25, -0.83, -0.6, -0.43, -0.35, -0.28],\n",
       "  [-10, -5, -3, -2, -1.25, -0.83, -0.6, -0.43, -0.35, -0.28],\n",
       "  [-10, -5, -3, -2, -1.25, -0.83, -0.6, -0.43, -0.35, -0.28],\n",
       "  [-10, -5, -3, -2, -1.25, -0.83, -0.6, -0.43, -0.35, -0.28],\n",
       "  [-10, -5, -3, -2, -1.25, -0.83, -0.6, -0.43, -0.35, -0.28]]]"
      ]
     },
     "execution_count": 25,
     "metadata": {},
     "output_type": "execute_result"
    }
   ],
   "source": [
    "[[[-1]*5+[1]*5]*6+[[-10, -5, -3, -2, -1.25, -0.83, -0.6, -0.43, -0.35, -0.28]]*14]"
   ]
  },
  {
   "cell_type": "code",
   "execution_count": null,
   "metadata": {},
   "outputs": [],
   "source": []
  },
  {
   "cell_type": "code",
   "execution_count": null,
   "metadata": {},
   "outputs": [],
   "source": []
  }
 ],
 "metadata": {
  "kernelspec": {
   "display_name": "Python 3",
   "language": "python",
   "name": "python3"
  },
  "language_info": {
   "codemirror_mode": {
    "name": "ipython",
    "version": 3
   },
   "file_extension": ".py",
   "mimetype": "text/x-python",
   "name": "python",
   "nbconvert_exporter": "python",
   "pygments_lexer": "ipython3",
   "version": "3.8.10"
  },
  "orig_nbformat": 4,
  "vscode": {
   "interpreter": {
    "hash": "deac690a8f78a88d7461e42f580da84f099726daa5f1976cafb33656d309052d"
   }
  }
 },
 "nbformat": 4,
 "nbformat_minor": 2
}
