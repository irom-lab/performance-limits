{
 "cells": [
  {
   "cell_type": "code",
   "execution_count": 1,
   "metadata": {},
   "outputs": [],
   "source": [
    "import numpy as np\n",
    "from bound_rewards_g import compute_bound as compute_bound\n",
    "from f_func import *\n",
    "from lava_problem import main as lava_problem\n",
    "import scipy.optimize as optimize\n",
    "import matplotlib.pyplot as plt\n",
    "import gurobipy"
   ]
  },
  {
   "cell_type": "code",
   "execution_count": 113,
   "metadata": {},
   "outputs": [],
   "source": [
    "# Initialize\n",
    "def g(x,c,func_list):\n",
    "    # c and func_list should have matching dimensions\n",
    "    y = 0\n",
    "    for i in range (len(func_list)):\n",
    "        y += c[i]*eval(func_list[i])(x)\n",
    "    return y\n",
    "\n",
    "# Different probabilities of sensor reporting correct state\n",
    "p_correct_vals = np.linspace(0.01, 0.99, 20) \n",
    "\n",
    "# Different rewards for being in a non-lava/goal state\n",
    "reward_xs = np.array([0.1]) \n",
    "\n",
    "#for reward_x in reward_xs:\n",
    "reward_x = reward_xs[0]\n",
    "\n",
    "bounds_f_inverse = []\n",
    "\n",
    "#Setup for finding tightest bounds\n",
    "#func_list = [ 'Kullback_Leibler', 'Total_Variation','Chi_Squared','Negative_Log']\n",
    "#func_list = [ 'Kullback_Leibler', 'Negative_Log','Total_Variation', 'Chi_Squared', 'Jensen_Shannon','Squared_Hellinger_Distance','Neyman_Chi_Squared']\n",
    "func_list = [ 'Kullback_Leibler', 'Negative_Log','Total_Variation', 'Chi_Squared','Neyman_Chi_Squared']\n",
    "#'Negative_Log',\n",
    "\n",
    "#c01 = np.tile(np.array([0,1,0,0]),(7,1))\n",
    "#c02 = np.tile(np.array([0.5,0.5,0.5,0.5]),(1,1))\n",
    "#c03 = np.tile(np.array([0,0,0,1]),(1,1))\n",
    "#c04 = np.tile(np.array([0.1,0.1,0.3,1]),(3,1))\n",
    "#c05 = np.tile(np.array([1e-5,1e-5,1e-5,1]),(13,1))\n",
    "\n",
    "#c0 = np.concatenate((c01,c02,c03,c02,c04,c05))\n",
    "#c0 = np.concatenate((c01,c05))\n",
    "\n",
    "ca = np.tile(np.array([1e-5,1e-5,1,1e-5,1e-5]),(5,1))\n",
    "cb = np.tile(np.array([1e-5,1e-5,2,1e-5,1e-5]),(1,1))\n",
    "cc = np.tile(np.array([1e-5,1e-5,1e-5,1e-5,2]),(4,1))\n",
    "cd = np.tile(np.array([0.5,0.5,0.5,0.5,0.5]),(3,1))\n",
    "ce = np.tile(np.array([1e-5,1e-5,1,1e-5,1e-5]),(4,1))\n",
    "cf = np.tile(np.array([1e-5,1e-5,1e-5,1e-5,2]),(1,1))\n",
    "cg = np.tile(np.array([0.5,0.5,0.5,0.5,0.5]),(2,1))\n",
    "\n",
    "\n",
    "c0 = np.concatenate((ca,cb,cc,cd,ce,cf,cg))\n",
    "\n",
    "def con(c_vec):\n",
    "\treturn np.linalg.norm(c_vec)-1\n",
    "\n",
    "def con1(c_vec):\n",
    "    return list(c_vec-1e-5)\n",
    "\n",
    "def con2(c_vec):\n",
    "    return list(1-c_vec)\n",
    "\n",
    "Nfeval=1\n",
    "def callbackF(Xi):\n",
    "    global Nfeval\n",
    "    #print ('{0:4d}{1: 3.6f}{2: 3.6f}{3: 3.6f}'.format(Nfeval,Xi[0],Xi[1],bounds(Xi)))\n",
    "    print ('{0:4d}{1: 3.2f}{2: 3.2f}{3: 3.2f}{4: 3.2f}{5: 3.6f}{6: 3.6f}'.format(Nfeval,Xi[0],Xi[1],Xi[2],Xi[3],Xi[4],bounds(Xi)))\n",
    "    Nfeval += 1\n",
    "\n",
    "#cons = [{'type':'ineq','fun': con1},{'type':'eq','fun':con},{'type':'ineq','fun': con2}]\n",
    "cons = [{'type':'ineq','fun': con1},{'type':'ineq','fun': con2}]\n",
    "\n",
    "def bounds(c_vec):\n",
    "    nx, nu, ny, T, p0, px_x, py_x, R, R0_expected = lava_problem(['--p_correct', str(p_correct), '--reward_x', str(reward_x)])\n",
    "    ################################################################################\n",
    "\n",
    "\n",
    "    ################################################################################\n",
    "    # Compute f-inverse bound\n",
    "    # t_start = time.time()\n",
    "    bound_f_inverse = compute_bound(g,c_vec,func_list, nx, nu, ny, T, p0, px_x, py_x, R, R0_expected) \n",
    "    # t_end = time.time()\n",
    "    bounds_f_inverse.append(bound_f_inverse)\n",
    "    #print(\"Bound: \", bound_f_inverse)\n",
    "    # print(\"Bound computation time: \", t_end - t_start)\n",
    "    ################################################################################\n",
    "    return bound_f_inverse\n"
   ]
  },
  {
   "cell_type": "code",
   "execution_count": 112,
   "metadata": {},
   "outputs": [
    {
     "name": "stdout",
     "output_type": "stream",
     "text": [
      "   1 0.00 0.00 0.00 0.00 1.000000 4.291473\n",
      "Optimization terminated successfully    (Exit mode 0)\n",
      "            Current function value: 4.291472700819779\n",
      "            Iterations: 1\n",
      "            Function evaluations: 7\n",
      "            Gradient evaluations: 1\n"
     ]
    }
   ],
   "source": [
    "\n",
    "p_correct = p_correct_vals[17]\n",
    "#c = np.array([0.5,0.5,0.5,0.5,0.5])\n",
    "c = np.array([1e-5,1e-5,1e-5,1e-5,2])\n",
    "#c = np.array([1e-5,1e-5,1,1e-5,1e-5])\n",
    "Nfeval=1\n",
    "res1 = optimize.minimize(bounds,c, constraints = cons, callback=callbackF, options={'disp':True})\n"
   ]
  },
  {
   "cell_type": "code",
   "execution_count": 114,
   "metadata": {},
   "outputs": [
    {
     "name": "stdout",
     "output_type": "stream",
     "text": [
      "   1 0.00 0.00 0.00 0.00 1.000000 4.291473\n",
      "Optimization terminated successfully    (Exit mode 0)\n",
      "            Current function value: 4.291472700819779\n",
      "            Iterations: 1\n",
      "            Function evaluations: 7\n",
      "            Gradient evaluations: 1\n",
      "   2 0.50 0.50 0.46 0.50 0.505774 4.311192\n",
      "Optimization terminated successfully    (Exit mode 0)\n",
      "            Current function value: 4.311253298595756\n",
      "            Iterations: 1\n",
      "            Function evaluations: 17\n",
      "            Gradient evaluations: 1\n",
      "   3 0.50 0.50 0.50 0.50 0.500000 4.322424\n",
      "Optimization terminated successfully    (Exit mode 0)\n",
      "            Current function value: 4.322424313043292\n",
      "            Iterations: 1\n",
      "            Function evaluations: 6\n",
      "            Gradient evaluations: 1\n"
     ]
    }
   ],
   "source": [
    "# Loop\n",
    "#coefs = []\n",
    "#vals = []\n",
    "#results = []\n",
    "for ind in range(17, 20):\n",
    "#for p_correct in p_correct_vals:\n",
    "\tp_correct = p_correct_vals[ind]\n",
    "\tdef bounds(c_vec):\n",
    "\t\tnx, nu, ny, T, p0, px_x, py_x, R, R0_expected = lava_problem(['--p_correct', str(p_correct), '--reward_x', str(reward_x)])\n",
    "\t\tbound_f_inverse = compute_bound(g,c_vec,func_list, nx, nu, ny, T, p0, px_x, py_x, R, R0_expected) \n",
    "\t\tbounds_f_inverse.append(bound_f_inverse)\n",
    "\t\treturn bound_f_inverse\n",
    "\n",
    "\t#ind = np.where(p_correct_vals == p_correct)[0][0]\n",
    "\n",
    "\tres = optimize.minimize(bounds,c0[ind], constraints = cons, callback=callbackF, options={'disp':True})\n",
    "\tresults.append(res)\n",
    "\tcoefs.append(res.x)\n",
    "\tvals.append(res.fun)\n"
   ]
  },
  {
   "cell_type": "code",
   "execution_count": null,
   "metadata": {},
   "outputs": [],
   "source": [
    "bounds_f_inverse = []\n",
    "func_list = ['Kullback_Leibler', 'Negative_Log', 'Total_Variation', 'Chi_Squared', 'Jensen_Shannon', 'Squared_Hellinger_Distance','Neyman_Chi_Squared']\n",
    "\n",
    "def tight_bound(p_correct):\n",
    "    ################################################################################\n",
    "    # Lava problem\n",
    "    nx, nu, ny, T, p0, px_x, py_x, R, R0_expected = lava_problem(['--p_correct', str(p_correct), '--reward_x', str(reward_x)])\n",
    "    ################################################################################\n",
    "    \n",
    "    bounds_tight = np.zeros(len(func_list))\n",
    "    for i in range(len(func_list)):\n",
    "        c_vec = np.zeros(len(func_list))\n",
    "        c_vec[i]=1\n",
    "        ################################################################################\n",
    "        # Compute f-inverse bound\n",
    "        bound_f_inverse = compute_bound(g,c_vec,func_list, nx, nu, ny, T, p0, px_x, py_x, R, R0_expected)\n",
    "        bounds_tight[i]=bound_f_inverse\n",
    "        ################################################################################\n",
    "    \n",
    "    bound_tight = np.amin(bounds_tight)\n",
    "    fun = np.where(bounds_tight == bound_tight)[0][0]\n",
    "\n",
    "    print(\"Bound: \", bound_tight, func_list[fun])\n",
    "    return bound_tight, fun\n",
    "\n",
    "for p_correct in p_correct_vals:\n",
    "    bound_f_inverse = tight_bound(p_correct)\n",
    "    bounds_f_inverse.append(bound_f_inverse)\n"
   ]
  },
  {
   "cell_type": "code",
   "execution_count": 115,
   "metadata": {},
   "outputs": [
    {
     "ename": "NameError",
     "evalue": "name 'bounds_tight' is not defined",
     "output_type": "error",
     "traceback": [
      "\u001b[0;31m---------------------------------------------------------------------------\u001b[0m",
      "\u001b[0;31mNameError\u001b[0m                                 Traceback (most recent call last)",
      "\u001b[0;32m/var/folders/w1/6fpx0_d97jx70b75hbmvqwym0000gn/T/ipykernel_59803/2170020119.py\u001b[0m in \u001b[0;36m<module>\u001b[0;34m\u001b[0m\n\u001b[0;32m----> 1\u001b[0;31m \u001b[0mnp\u001b[0m\u001b[0;34m.\u001b[0m\u001b[0msavez\u001b[0m\u001b[0;34m(\u001b[0m\u001b[0;34m'tightest_bounds_5'\u001b[0m\u001b[0;34m,\u001b[0m\u001b[0mp_correct_vals\u001b[0m\u001b[0;34m=\u001b[0m\u001b[0mp_correct_vals\u001b[0m\u001b[0;34m,\u001b[0m \u001b[0mbounds\u001b[0m\u001b[0;34m=\u001b[0m\u001b[0mbounds_tight\u001b[0m\u001b[0;34m)\u001b[0m\u001b[0;34m\u001b[0m\u001b[0;34m\u001b[0m\u001b[0m\n\u001b[0m",
      "\u001b[0;31mNameError\u001b[0m: name 'bounds_tight' is not defined"
     ]
    }
   ],
   "source": [
    "np.savez('tightest_bounds_5',p_correct_vals=p_correct_vals, bounds=bounds_tight)"
   ]
  },
  {
   "cell_type": "code",
   "execution_count": null,
   "metadata": {},
   "outputs": [],
   "source": [
    "opt_data = np.load(\"results/lava_problem_optimal_results.npz\")\n",
    "p_correct_vals = opt_data['p_correct_vals']\n",
    "opt_values = opt_data['opt_values']\n",
    "\n",
    "# Plot\n",
    "fig, ax = plt.subplots()\n",
    "ax.plot(p_correct_vals, opt_values, '*--', label='POMDP', linewidth=0.5)\n",
    "\n",
    "data = np.load(\"tightest_bounds.npz\")\n",
    "bounds = data['bounds']\n",
    "ax.plot(p_correct_vals, bounds, 'o--', label='tightest', linewidth=1) \n",
    "\n",
    "plt.xlabel('$p_{correct}$', fontsize=15)\n",
    "plt.ylabel('Cumulative reward', fontsize=15)\n",
    "plt.legend(fontsize=12, loc='lower right')\n",
    "plt.ylim([0, 5.01])\n",
    "plt.show() "
   ]
  },
  {
   "cell_type": "code",
   "execution_count": null,
   "metadata": {},
   "outputs": [],
   "source": [
    "bounds_tight = []\n",
    "for i in range(len(bounds_f_inverse)):\n",
    "    bounds_tight.append(bounds_f_inverse[i][0])"
   ]
  },
  {
   "cell_type": "code",
   "execution_count": 19,
   "metadata": {},
   "outputs": [],
   "source": [
    "coefs = []\n",
    "vals = []\n",
    "for ind in range(20):\n",
    "    coefs.append(results[ind].x)\n",
    "    vals.append(results[ind].fun)"
   ]
  },
  {
   "cell_type": "code",
   "execution_count": 117,
   "metadata": {},
   "outputs": [
    {
     "data": {
      "image/png": "[encoded data removed]",
      "text/plain": [
       "<Figure size 432x288 with 1 Axes>"
      ]
     },
     "metadata": {
      "needs_background": "light"
     },
     "output_type": "display_data"
    }
   ],
   "source": [
    "opt_data = np.load(\"results/lava_problem_optimal_results.npz\")\n",
    "p_correct_vals = opt_data['p_correct_vals']\n",
    "opt_values = opt_data['opt_values']\n",
    "\n",
    "fig, ax = plt.subplots()\n",
    "ax.plot(p_correct_vals, opt_values, '*--', label='POMDP', linewidth=0.5)\n",
    "ax.plot(p_correct_vals,vals,'.--', label='Optimized Bounds', linewidth=1)\n",
    "\n",
    "data = np.load(\"results/lava_problem_Kullback_Leibler_results_f.npz\")\n",
    "bounds = data['bounds']\n",
    "ax.plot(p_correct_vals, bounds, '.--', label='KL', linewidth=1)\n",
    "\n",
    "#data = np.load(\"tightest_bounds.npz\")\n",
    "#bounds = data['bounds']\n",
    "#ax.plot(p_correct_vals, bounds, '.--', label='Tightest Bounds', linewidth=1)\n",
    "\n",
    "plt.xlabel('$p_{correct}$', fontsize=15)\n",
    "plt.ylabel('Cumulative reward', fontsize=15)\n",
    "plt.legend(fontsize=12, loc='lower right')\n",
    "plt.ylim([0, 5.01])\n",
    "plt.savefig('Tight_Bounds_vs_KL_5.svg', dpi=200)\n",
    "plt.show() \n"
   ]
  },
  {
   "cell_type": "code",
   "execution_count": 110,
   "metadata": {},
   "outputs": [
    {
     "data": {
      "text/plain": [
       "[17, 18, 19]"
      ]
     },
     "execution_count": 110,
     "metadata": {},
     "output_type": "execute_result"
    }
   ],
   "source": [
    "list(range(17,20))"
   ]
  },
  {
   "cell_type": "code",
   "execution_count": null,
   "metadata": {},
   "outputs": [],
   "source": []
  }
 ],
 "metadata": {
  "kernelspec": {
   "display_name": "Python 3.7.13 ('base')",
   "language": "python",
   "name": "python3"
  },
  "language_info": {
   "codemirror_mode": {
    "name": "ipython",
    "version": 3
   },
   "file_extension": ".py",
   "mimetype": "text/x-python",
   "name": "python",
   "nbconvert_exporter": "python",
   "pygments_lexer": "ipython3",
   "version": "3.7.13"
  },
  "orig_nbformat": 4,
  "vscode": {
   "interpreter": {
    "hash": "deac690a8f78a88d7461e42f580da84f099726daa5f1976cafb33656d309052d"
   }
  }
 },
 "nbformat": 4,
 "nbformat_minor": 2
}
