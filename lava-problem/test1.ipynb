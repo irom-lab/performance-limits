{
 "cells": [
  {
   "cell_type": "code",
   "execution_count": 3,
   "metadata": {},
   "outputs": [],
   "source": [
    "import numpy as np\n",
    "from bound_rewards_l import *\n",
    "from lava_problem import main as lava_problem\n",
    "import scipy.optimize as optimize\n",
    "import matplotlib.pyplot as plt\n",
    "import cvxpy as cvx"
   ]
  },
  {
   "cell_type": "code",
   "execution_count": 4,
   "metadata": {},
   "outputs": [],
   "source": [
    "# Setups for lava problem\n",
    "p_correct_vals = np.linspace(0.01, 0.99, 20) \n",
    "reward_xs = np.array([0.1]) \n",
    "reward_x = reward_xs[0]\n",
    "\n",
    "# Function\n",
    "def bounds(svec, p_correct = p_correct_vals[0]):\n",
    "\t\tnx, nu, ny, T, p0, px_x, py_x, R, R0_expected = lava_problem(['--p_correct', str(p_correct), '--reward_x', str(reward_x)])\n",
    "\t\tbound_f_inverse = compute_bound(l,n,svec, nx, nu, ny, T, p0, px_x, py_x, R, R0_expected) \n",
    "\t\treturn bound_f_inverse\n",
    "\n",
    "# Constraint: from 0 to 2, each slope has to be larger\n",
    "# So elements in the slope vector need to be in increasing order\n",
    "def con(svec):\n",
    "    out = []\n",
    "    for i in range(len(svec)-1):\n",
    "        out.append(svec[i+1]-svec[i])\n",
    "    return out\n",
    "def con1(svec):\n",
    "    return l(0,n,svec)-1\n",
    "cons = [{'type':'ineq','fun': con}]\n",
    "\n",
    "# Print optimization progress\n",
    "def callbackF(svec,status):\n",
    "    print (svec,bounds(svec))"
   ]
  },
  {
   "cell_type": "code",
   "execution_count": 5,
   "metadata": {},
   "outputs": [],
   "source": [
    "def minimize(p_correct,svec):\n",
    "\tres = optimize.minimize(bounds,svec,method = 'trust-constr', constraints = cons, callback = callbackF, args = (p_correct), options={'disp':True})\n",
    "\treturn[res.x, res.fun]"
   ]
  },
  {
   "cell_type": "code",
   "execution_count": 9,
   "metadata": {},
   "outputs": [],
   "source": [
    "n = 2\n",
    "s0 = [0,0,0,0]"
   ]
  },
  {
   "cell_type": "code",
   "execution_count": null,
   "metadata": {},
   "outputs": [],
   "source": [
    "from dask.distributed import Client, progress\n",
    "client = Client(n_workers=2)\n",
    "client"
   ]
  },
  {
   "cell_type": "code",
   "execution_count": null,
   "metadata": {},
   "outputs": [],
   "source": [
    "tr = 20\n",
    "opt_results = []\n",
    "s0_guesses = [s0]\n",
    "opt_results.append(minimize(p_correct_vals[0],s0)) # first iteration\n",
    "s0_guesses.append(opt_results[0][0])\n",
    "\n",
    "futures = []\n",
    "for i in range(1,tr):\n",
    "    future = client.submit(minimize,p_correct_vals[i],s0_guesses[-1])\n",
    "    futures.append(future)\n",
    "\n"
   ]
  },
  {
   "cell_type": "code",
   "execution_count": 10,
   "metadata": {},
   "outputs": [
    {
     "name": "stdout",
     "output_type": "stream",
     "text": [
      "[0. 0. 0. 0.] 4.32499575\n",
      "[-0.29913747 -0.01123547  0.26543105  0.80752862] 4.11989550625632\n",
      "[-0.29913749 -0.01123549  0.26543107  0.80752864] 4.119895501799658\n",
      "[-0.3728275  -0.07752091  0.36179759  0.87921937] 4.105758481558939\n",
      "[-0.44659301 -0.14387422  0.45826282  0.95098355] 4.095385449110601\n",
      "[-0.44659301 -0.14387422  0.45826282  0.95098355] 4.095385449110601\n",
      "[-0.48948454 -0.18245589  0.51435329  0.99271141] 4.090163509680615\n",
      "[-0.51874172 -0.20877324  0.55261375  1.02117482] 4.087346534906614\n",
      "[-0.54520439 -0.23257688  0.58721973  1.04691954] 4.085180865811853\n",
      "[-0.5691838  -0.2541468   0.6185783   1.07024838] 4.083468780667979\n",
      "[-0.59113921 -0.2738961   0.64729003  1.09160814] 4.082073738028841\n",
      "[-0.61141825 -0.29213749  0.67380952  1.11133701] 4.0809095641288256\n",
      "[-0.630287   -0.3091103   0.69848475  1.12969387] 4.079919244403706\n",
      "[-0.64795197 -0.32500029  0.72158576  1.14687959] 4.079063540052736\n",
      "[-0.66457594 -0.33995388  0.74332541  1.16305256] 4.078314523449381\n",
      "[-0.68028917 -0.35408825  0.76387406  1.17833951] 4.07765174219546\n",
      "[-0.68028917 -0.35408825  0.76387406  1.17833951] 4.07765174219546\n",
      "[-0.69033665 -0.36312617  0.77701345  1.18811441] 4.077249075736056\n",
      "[-0.70003386 -0.37184903  0.7896948   1.19754855] 4.076875026776826\n",
      "[-0.70940366 -0.38027739  0.80194799  1.20666417] 4.076526472157549\n",
      "[-0.71847143 -0.38843407  0.8138062   1.21548595] 4.076200570572394\n",
      "[-0.7272596  -0.39633926  0.82529878  1.22403573] 4.075894906861825\n",
      "[-0.73578797 -0.40401075  0.83645162  1.23233275] 4.075607418442303\n",
      "[-0.74407415 -0.41146441  0.84728774  1.24039416] 4.0753363289593105\n",
      "[-0.75213398 -0.41871446  0.85782786  1.24823536] 4.075080096802269\n",
      "[-0.75998171 -0.42577373  0.86809063  1.25587022] 4.074837376908389\n",
      "[-0.76763011 -0.43265371  0.87809272  1.26331116] 4.074606994307429\n",
      "[-0.77509071 -0.43936476  0.88784923  1.2705694 ] 4.07438791444285\n",
      "[-0.78237414 -0.44591646  0.89737405  1.27765528] 4.074179218064523\n",
      "[-0.78948993 -0.45231736  0.90667965  1.28457807] 4.073980092846677\n",
      "[-0.79644711 -0.4585756   0.91577783  1.29134655] 4.073789805648492\n",
      "[-0.80325356 -0.46469826  0.92467891  1.2979684 ] 4.07360771112608\n",
      "[-0.8099167  -0.47069201  0.93339257  1.30445082] 4.073433224540357\n",
      "[-0.81644349 -0.47656312  0.94192792  1.3108006 ] 4.073265815915487\n",
      "[-0.82284014 -0.48231717  0.9502931   1.31702377] 4.0731050115138006\n",
      "[-0.82911257 -0.48795949  0.95849583  1.32312609] 4.072950377601081\n",
      "[-0.83526623 -0.49349498  0.96654325  1.32911287] 4.072801521038434\n",
      "[-0.84130611 -0.49892813  0.97444188  1.33498895] 4.072658085068804\n",
      "[-0.847237   -0.50426324  0.98219797  1.34075901] 4.072519740643591\n",
      "[-0.85306331 -0.50950428  0.98981731  1.34642732] 4.07238618736646\n",
      "[-0.85878913 -0.51465494  0.99730524  1.35199787] 4.07225715045036\n",
      "[-0.86441824 -0.51971861  1.0046667   1.35747434] 4.072132378264629\n",
      "[-1.19451318 -0.81665571  1.43634791  1.67861823] 4.067222220195618\n",
      "[-1.19451318 -0.81665571  1.43634791  1.67861824] 4.067222219965155\n",
      "[-1.19451318 -0.81665572  1.43634791  1.67861824] 4.067222219741043\n",
      "[-1.19451318 -0.81665572  1.43634792  1.67861824] 4.067222219516932\n",
      "[-1.19451319 -0.81665573  1.43634792  1.67861825] 4.06722221929282\n",
      "[-1.15141218 -1.14010668  1.48906809  1.84865634] 4.053485363409188\n",
      "[-1.15141218 -1.14010668  1.48906809  1.84865634] 4.053485363409188\n",
      "[-1.15141218 -1.14010668  1.48906809  1.84865634] 4.053485363409188\n",
      "[-1.15066871 -1.14569846  1.48998122  1.85159667] 4.053282414834607\n",
      "[-1.15066871 -1.14569846  1.48998122  1.85159667] 4.053282414834607\n",
      "[-1.15020409 -1.14919738  1.4905532   1.85343678] 4.053155952020625\n",
      "[-1.15020409 -1.14919738  1.4905532   1.85343678] 4.053155952020625\n",
      "[-1.15010976 -1.14990864  1.4906696   1.85381089] 4.053130296336649\n",
      "[-1.15010976 -1.14990864  1.4906696   1.85381089] 4.053130296336649\n",
      "[-1.15009094 -1.15005073  1.49069288  1.85388563] 4.05312517387024\n",
      "[-1.15009094 -1.15005073  1.49069288  1.85388563] 4.05312517387024\n",
      "[-1.15008718 -1.15007914  1.49069754  1.85390058] 4.053124149756536\n",
      "[-1.15008718 -1.15007914  1.49069754  1.85390058] 4.053124149756536\n",
      "[-1.15008643 -1.15008482  1.49069847  1.85390357] 4.053123944959616\n",
      "[-1.15008644 -1.15008483  1.49069847  1.85390358] 4.053123944959615\n",
      "[-1.15008644 -1.15008483  1.49069847  1.85390358] 4.053123944959615\n",
      "`gtol` termination condition is satisfied.\n",
      "Number of iterations: 63, function evaluations: 265, CG iterations: 193, optimality: 3.64e-09, constraint violation: 0.00e+00, execution time: 2.3e+02 s.\n",
      "[-1.15008644 -1.15008483  1.49069847  1.85390358] 4.053123944959615\n",
      "[-1.20068941 -0.99707161  1.35899137  1.88319904] 4.060388804408539\n",
      "[-1.20068941 -0.99707161  1.35899137  1.88319904] 4.060388804408539\n",
      "[-1.41859187 -0.99548193  1.14692747  2.31156082] 4.069725579976761\n",
      "[-1.41859187 -0.99548193  1.14692747  2.31156082] 4.069725579976761\n",
      "[-1.45526367 -1.19905379  1.30987674  2.38885489] 4.061708268230531\n",
      "[-1.58386704 -1.42774058  1.52412529  2.53189836] 4.057570015244396\n",
      "[-1.58386704 -1.42774058  1.52412529  2.53189836] 4.057570015244396\n",
      "[-1.69912902 -1.63709137  1.80536279  2.57528188] 4.054638809795006\n",
      "[-1.84278322 -1.7972142   2.04532004  2.63909113] 4.054120797933366\n",
      "[-1.84278322 -1.7972142   2.04532004  2.63909113] 4.054120797933366\n",
      "[-2.01549118 -2.00067368  2.40778942  2.65276553] 4.053406439626879\n",
      "[-2.10985254 -2.10065147  2.56836936  2.68577802] 4.0532895522449355\n",
      "[-2.10985254 -2.10065147  2.56836936  2.68577802] 4.0532895522449355\n",
      "[-2.1829706  -2.18092845  2.68807707  2.71887193] 4.053159151105871\n",
      "[-2.1829706  -2.18092845  2.68807707  2.71887193] 4.053159151105871\n",
      "[-2.20624404 -2.20583322  2.72504407  2.72990534] 4.053130897412596\n",
      "[-2.20624404 -2.20583322  2.72504407  2.72990534] 4.053130897412596\n",
      "[-2.21012596 -2.21008163  2.7307719   2.7322782 ] 4.05312464781368\n",
      "[-2.21012596 -2.21008163  2.7307719   2.7322782 ] 4.05312464781368\n",
      "[-2.21151515 -2.21148483  2.73285576  2.7329775 ] 4.05312440915067\n",
      "[-2.21169056 -2.21167803  2.73302747  2.73317325] 4.053124106758427\n",
      "[-2.21169056 -2.21167803  2.73302747  2.73317325] 4.053124106758427\n",
      "[-2.21200386 -2.21200185  2.7333909   2.73344677] 4.0531239278578335\n",
      "[-2.21200386 -2.21200185  2.7333909   2.73344677] 4.0531239278578335\n",
      "[-2.21200386 -2.21200185  2.7333909   2.73344677] 4.0531239278578335\n",
      "[-2.21200386 -2.21200185  2.7333909   2.73344677] 4.0531239278578335\n",
      "[-2.21200386 -2.21200185  2.7333909   2.73344677] 4.0531239278578335\n",
      "[-2.21624686 -2.21624486  2.73076187  2.73081773] 4.053123927846716\n",
      "[-2.21624686 -2.21624486  2.73076187  2.73081773] 4.053123927846716\n",
      "[-2.21624679 -2.21624479  2.73076187  2.73081773] 4.053123927846716\n",
      "[-2.21624679 -2.21624479  2.73076187  2.73081773] 4.053123927846716\n",
      "[-2.21624679 -2.21624479  2.73076187  2.73081773] 4.053123927846716\n",
      "[-2.21624679 -2.21624479  2.73076187  2.73081773] 4.053123927846716\n",
      "[-2.21624679 -2.21624479  2.73076187  2.73081773] 4.053123927846716\n",
      "[-2.21624679 -2.21624479  2.73076187  2.73081773] 4.053123927846716\n",
      "[-2.21624679 -2.21624479  2.73076187  2.73081773] 4.053123927846716\n",
      "[-2.21624679 -2.21624479  2.73076187  2.73081773] 4.053123927846716\n",
      "[-2.21624679 -2.21624479  2.73076187  2.73081773] 4.053123927846716\n",
      "[-2.21624679 -2.21624479  2.73076187  2.73081773] 4.053123927846716\n",
      "[-2.21624679 -2.21624479  2.73076187  2.73081773] 4.053123927846716\n",
      "[-2.21624679 -2.21624479  2.73076187  2.73081773] 4.053123927846716\n",
      "[-2.21624679 -2.21624479  2.73076187  2.73081773] 4.053123927846716\n",
      "[-2.21624679 -2.21624479  2.73076187  2.73081773] 4.053123927846716\n",
      "[-2.21624679 -2.21624479  2.73076187  2.73081773] 4.053123927846716\n",
      "[-2.21624679 -2.21624479  2.73076187  2.73081773] 4.053123927846716\n",
      "[-2.21624679 -2.21624479  2.73076187  2.73081773] 4.053123927846716\n",
      "[-2.21624679 -2.21624479  2.73076187  2.73081773] 4.053123927846716\n",
      "[-2.21624679 -2.21624479  2.73076187  2.73081773] 4.053123927846716\n",
      "[-2.21624679 -2.21624479  2.73076187  2.73081773] 4.053123927846716\n",
      "[-2.21624679 -2.21624479  2.73076187  2.73081773] 4.053123927846716\n",
      "[-2.21624679 -2.21624479  2.73076187  2.73081773] 4.053123927846716\n",
      "[-2.21624679 -2.21624479  2.73076187  2.73081773] 4.053123927846716\n",
      "[-2.21624679 -2.21624479  2.73076187  2.73081773] 4.053123927846716\n",
      "[-2.21624679 -2.21624479  2.73076187  2.73081773] 4.053123927846716\n",
      "[-2.21624679 -2.21624479  2.73076187  2.73081773] 4.053123927846716\n",
      "[-2.21624679 -2.21624479  2.73076187  2.73081773] 4.053123927846716\n",
      "[-2.21624679 -2.21624479  2.73076187  2.73081773] 4.053123927846716\n",
      "[-2.21624679 -2.21624479  2.73076187  2.73081773] 4.053123927846716\n",
      "[-2.21624679 -2.21624479  2.73076187  2.73081773] 4.053123927846716\n",
      "[-2.21624679 -2.21624479  2.73076187  2.73081773] 4.053123927846716\n",
      "[-2.21624679 -2.21624479  2.73076187  2.73081773] 4.053123927846716\n",
      "[-2.21624679 -2.21624479  2.73076187  2.73081773] 4.053123927846716\n",
      "[-2.21624679 -2.21624479  2.73076187  2.73081773] 4.053123927846716\n",
      "`xtol` termination condition is satisfied.\n",
      "Number of iterations: 64, function evaluations: 240, CG iterations: 80, optimality: 2.20e-07, constraint violation: 0.00e+00, execution time: 2.1e+02 s.\n",
      "[-1.15008644 -1.15008483  1.49069847  1.85390358] 4.053123944959615\n",
      "[-1.20733753 -1.00298082  1.36972937  1.88501974] 4.060364011761259\n",
      "[-1.20733753 -1.00298082  1.36972937  1.88501974] 4.060364011761259\n",
      "[-5.80125852 -2.55860256  3.15519046  6.24907729] 4.100529407377299\n",
      "[-5.80125852 -2.55860256  3.15519046  6.24907729] 4.100529407377299\n",
      "[-5.80125852 -2.55860256  3.15519046  6.24907729] 4.100529407377299\n",
      "[-5.80125852 -2.55860256  3.15519046  6.24907729] 4.100529407377299\n",
      "[-5.80125852 -2.55860256  3.15519046  6.24907729] 4.100529407377299\n",
      "[-5.80125852 -2.55860256  3.15519046  6.24907729] 4.100529407377299\n",
      "[-5.80125852 -2.55860256  3.15519046  6.24907729] 4.100529407377299\n",
      "[-5.80125852 -2.55860256  3.15519046  6.24907729] 4.100529407377299\n",
      "[-10.86950609  -3.60166957   5.07075454  11.64161499] 4.112823789270752\n",
      "[-10.86950609  -3.60166957   5.07075454  11.64161499] 4.112823789270752\n",
      "[-10.86950609  -3.60166957   5.07075454  11.64161499] 4.112823789270752\n",
      "[-13.40324957  -4.26652119   6.08361453  14.22698094] 4.114516008991616\n",
      "[-13.40324957  -4.26652119   6.08361453  14.22698094] 4.114516008991616\n",
      "[-13.40324957  -4.26652119   6.08361453  14.22698094] 4.114516008991616\n",
      "[-13.40324957  -4.26652119   6.08361453  14.22698094] 4.114516008991616\n",
      "[-13.40324957  -4.26652119   6.08361453  14.22698094] 4.114516008991616\n",
      "[-13.40324957  -4.26652119   6.08361453  14.22698094] 4.114516008991616\n",
      "[-13.40324957  -4.26652119   6.08361453  14.22698094] 4.114516008991616\n",
      "[-13.40324957  -4.26652119   6.08361453  14.22698094] 4.114516008991616\n",
      "[-13.40324957  -4.26652119   6.08361453  14.22698094] 4.114516008991616\n",
      "[-13.40324957  -4.26652119   6.08361453  14.22698094] 4.114516008991616\n",
      "[-13.40324957  -4.26652119   6.08361453  14.22698094] 4.114516008991616\n",
      "[-13.40324957  -4.26652119   6.08361453  14.22698094] 4.114516008991616\n",
      "[-13.40324957  -4.26652119   6.08361453  14.22698094] 4.114516008991616\n",
      "[-13.40324957  -4.26652119   6.08361453  14.22698094] 4.114516008991616\n",
      "[-13.40324957  -4.26652119   6.08361453  14.22698094] 4.114516008991616\n",
      "[-13.40324957  -4.26652119   6.08361453  14.22698094] 4.114516008991616\n",
      "[-13.40324957  -4.26652119   6.08361453  14.22698094] 4.114516008991616\n",
      "[-13.40324957  -4.26652119   6.08361453  14.22698094] 4.114516008991616\n",
      "[-13.40324957  -4.26652119   6.08361453  14.22698094] 4.114516008991616\n",
      "[-13.40324957  -4.26652119   6.08361453  14.22698094] 4.114516008991616\n",
      "[-13.40324957  -4.26652119   6.08361453  14.22698094] 4.114516008991616\n",
      "[-13.40324957  -4.26652119   6.08361453  14.22698094] 4.114516008991616\n",
      "[-13.40324957  -4.26652119   6.08361453  14.22698094] 4.114516008991616\n",
      "[-13.40324736  -4.26651322   6.08361453  14.22698142] 4.114516054687209\n",
      "`gtol` termination condition is satisfied.\n",
      "Number of iterations: 38, function evaluations: 120, CG iterations: 84, optimality: 7.02e-09, constraint violation: 0.00e+00, execution time: 1.1e+02 s.\n"
     ]
    }
   ],
   "source": [
    "tr = 3\n",
    "opt_results = []\n",
    "s0_guesses = [s0]\n",
    "opt_results.append(minimize(p_correct_vals[0],s0)) # first iteration\n",
    "s0_guesses.append(opt_results[0][0])\n",
    "\n",
    "for i in range(1,tr):\n",
    "    opt_result = minimize(p_correct_vals[i],s0_guesses[-1])\n",
    "    opt_results.append(opt_result)"
   ]
  },
  {
   "cell_type": "code",
   "execution_count": 19,
   "metadata": {},
   "outputs": [
    {
     "data": {
      "text/plain": [
       "4.277136603596268"
      ]
     },
     "execution_count": 19,
     "metadata": {},
     "output_type": "execute_result"
    }
   ],
   "source": [
    "# bounds([-1.0130594 , -1.01305833,  0.73804023,  1.29017034], 0.6289473684210526)\n",
    "bounds([-1,-1,1,1], 0.6289473684210526)"
   ]
  },
  {
   "cell_type": "code",
   "execution_count": 18,
   "metadata": {},
   "outputs": [],
   "source": [
    "client.close()"
   ]
  },
  {
   "cell_type": "code",
   "execution_count": 25,
   "metadata": {},
   "outputs": [
    {
     "ename": "KeyboardInterrupt",
     "evalue": "",
     "output_type": "error",
     "traceback": [
      "\u001b[0;31m---------------------------------------------------------------------------\u001b[0m",
      "\u001b[0;31mKeyboardInterrupt\u001b[0m                         Traceback (most recent call last)",
      "\u001b[0;32m/var/folders/w1/6fpx0_d97jx70b75hbmvqwym0000gn/T/ipykernel_68414/3569759935.py\u001b[0m in \u001b[0;36m<module>\u001b[0;34m\u001b[0m\n\u001b[0;32m----> 1\u001b[0;31m \u001b[0mminimize\u001b[0m\u001b[0;34m(\u001b[0m\u001b[0;36m0.6289473684210526\u001b[0m\u001b[0;34m,\u001b[0m\u001b[0;34m[\u001b[0m\u001b[0;34m-\u001b[0m\u001b[0;36m3.52043737\u001b[0m\u001b[0;34m,\u001b[0m  \u001b[0;36m1.1835025\u001b[0m\u001b[0;34m,\u001b[0m   \u001b[0;36m1.18350406\u001b[0m\u001b[0;34m,\u001b[0m  \u001b[0;36m1.18350526\u001b[0m\u001b[0;34m]\u001b[0m\u001b[0;34m)\u001b[0m\u001b[0;34m\u001b[0m\u001b[0;34m\u001b[0m\u001b[0m\n\u001b[0m",
      "\u001b[0;32m/var/folders/w1/6fpx0_d97jx70b75hbmvqwym0000gn/T/ipykernel_68414/4039262177.py\u001b[0m in \u001b[0;36mminimize\u001b[0;34m(p_correct, svec)\u001b[0m\n\u001b[1;32m      1\u001b[0m \u001b[0;32mdef\u001b[0m \u001b[0mminimize\u001b[0m\u001b[0;34m(\u001b[0m\u001b[0mp_correct\u001b[0m\u001b[0;34m,\u001b[0m\u001b[0msvec\u001b[0m\u001b[0;34m)\u001b[0m\u001b[0;34m:\u001b[0m\u001b[0;34m\u001b[0m\u001b[0;34m\u001b[0m\u001b[0m\n\u001b[0;32m----> 2\u001b[0;31m         \u001b[0mres\u001b[0m \u001b[0;34m=\u001b[0m \u001b[0moptimize\u001b[0m\u001b[0;34m.\u001b[0m\u001b[0mminimize\u001b[0m\u001b[0;34m(\u001b[0m\u001b[0mbounds\u001b[0m\u001b[0;34m,\u001b[0m\u001b[0msvec\u001b[0m\u001b[0;34m,\u001b[0m\u001b[0mmethod\u001b[0m \u001b[0;34m=\u001b[0m \u001b[0;34m'trust-constr'\u001b[0m\u001b[0;34m,\u001b[0m \u001b[0mconstraints\u001b[0m \u001b[0;34m=\u001b[0m \u001b[0mcons\u001b[0m\u001b[0;34m,\u001b[0m \u001b[0mcallback\u001b[0m \u001b[0;34m=\u001b[0m \u001b[0mcallbackF\u001b[0m\u001b[0;34m,\u001b[0m \u001b[0margs\u001b[0m \u001b[0;34m=\u001b[0m \u001b[0;34m(\u001b[0m\u001b[0mp_correct\u001b[0m\u001b[0;34m)\u001b[0m\u001b[0;34m,\u001b[0m \u001b[0moptions\u001b[0m\u001b[0;34m=\u001b[0m\u001b[0;34m{\u001b[0m\u001b[0;34m'disp'\u001b[0m\u001b[0;34m:\u001b[0m\u001b[0;32mTrue\u001b[0m\u001b[0;34m}\u001b[0m\u001b[0;34m)\u001b[0m\u001b[0;34m\u001b[0m\u001b[0;34m\u001b[0m\u001b[0m\n\u001b[0m\u001b[1;32m      3\u001b[0m         \u001b[0;32mreturn\u001b[0m\u001b[0;34m[\u001b[0m\u001b[0mres\u001b[0m\u001b[0;34m.\u001b[0m\u001b[0mx\u001b[0m\u001b[0;34m,\u001b[0m \u001b[0mres\u001b[0m\u001b[0;34m.\u001b[0m\u001b[0mfun\u001b[0m\u001b[0;34m]\u001b[0m\u001b[0;34m\u001b[0m\u001b[0;34m\u001b[0m\u001b[0m\n",
      "\u001b[0;32m~/opt/anaconda3/lib/python3.7/site-packages/scipy/optimize/_minimize.py\u001b[0m in \u001b[0;36mminimize\u001b[0;34m(fun, x0, args, method, jac, hess, hessp, bounds, constraints, tol, callback, options)\u001b[0m\n\u001b[1;32m    634\u001b[0m         return _minimize_trustregion_constr(fun, x0, args, jac, hess, hessp,\n\u001b[1;32m    635\u001b[0m                                             \u001b[0mbounds\u001b[0m\u001b[0;34m,\u001b[0m \u001b[0mconstraints\u001b[0m\u001b[0;34m,\u001b[0m\u001b[0;34m\u001b[0m\u001b[0;34m\u001b[0m\u001b[0m\n\u001b[0;32m--> 636\u001b[0;31m                                             callback=callback, **options)\n\u001b[0m\u001b[1;32m    637\u001b[0m     \u001b[0;32melif\u001b[0m \u001b[0mmeth\u001b[0m \u001b[0;34m==\u001b[0m \u001b[0;34m'dogleg'\u001b[0m\u001b[0;34m:\u001b[0m\u001b[0;34m\u001b[0m\u001b[0;34m\u001b[0m\u001b[0m\n\u001b[1;32m    638\u001b[0m         return _minimize_dogleg(fun, x0, args, jac, hess,\n",
      "\u001b[0;32m~/opt/anaconda3/lib/python3.7/site-packages/scipy/optimize/_trustregion_constr/minimize_trustregion_constr.py\u001b[0m in \u001b[0;36m_minimize_trustregion_constr\u001b[0;34m(fun, x0, args, grad, hess, hessp, bounds, constraints, xtol, gtol, barrier_tol, sparse_jacobian, callback, maxiter, verbose, finite_diff_rel_step, initial_constr_penalty, initial_tr_radius, initial_barrier_parameter, initial_barrier_tolerance, factorization_method, disp)\u001b[0m\n\u001b[1;32m    518\u001b[0m             \u001b[0minitial_barrier_tolerance\u001b[0m\u001b[0;34m,\u001b[0m\u001b[0;34m\u001b[0m\u001b[0;34m\u001b[0m\u001b[0m\n\u001b[1;32m    519\u001b[0m             \u001b[0minitial_constr_penalty\u001b[0m\u001b[0;34m,\u001b[0m \u001b[0minitial_tr_radius\u001b[0m\u001b[0;34m,\u001b[0m\u001b[0;34m\u001b[0m\u001b[0;34m\u001b[0m\u001b[0m\n\u001b[0;32m--> 520\u001b[0;31m             factorization_method)\n\u001b[0m\u001b[1;32m    521\u001b[0m \u001b[0;34m\u001b[0m\u001b[0m\n\u001b[1;32m    522\u001b[0m     \u001b[0;31m# Status 3 occurs when the callback function requests termination,\u001b[0m\u001b[0;34m\u001b[0m\u001b[0;34m\u001b[0m\u001b[0;34m\u001b[0m\u001b[0m\n",
      "\u001b[0;32m~/opt/anaconda3/lib/python3.7/site-packages/scipy/optimize/_trustregion_constr/tr_interior_point.py\u001b[0m in \u001b[0;36mtr_interior_point\u001b[0;34m(fun, grad, lagr_hess, n_vars, n_ineq, n_eq, constr, jac, x0, fun0, grad0, constr_ineq0, jac_ineq0, constr_eq0, jac_eq0, stop_criteria, enforce_feasibility, xtol, state, initial_barrier_parameter, initial_tolerance, initial_penalty, initial_trust_radius, factorization_method)\u001b[0m\n\u001b[1;32m    326\u001b[0m             \u001b[0mconstr0_subprob\u001b[0m\u001b[0;34m,\u001b[0m \u001b[0mjac0_subprob\u001b[0m\u001b[0;34m,\u001b[0m \u001b[0msubprob\u001b[0m\u001b[0;34m.\u001b[0m\u001b[0mstop_criteria\u001b[0m\u001b[0;34m,\u001b[0m\u001b[0;34m\u001b[0m\u001b[0;34m\u001b[0m\u001b[0m\n\u001b[1;32m    327\u001b[0m             \u001b[0mstate\u001b[0m\u001b[0;34m,\u001b[0m \u001b[0minitial_penalty\u001b[0m\u001b[0;34m,\u001b[0m \u001b[0mtrust_radius\u001b[0m\u001b[0;34m,\u001b[0m\u001b[0;34m\u001b[0m\u001b[0;34m\u001b[0m\u001b[0m\n\u001b[0;32m--> 328\u001b[0;31m             factorization_method, trust_lb, trust_ub, subprob.scaling)\n\u001b[0m\u001b[1;32m    329\u001b[0m         \u001b[0;32mif\u001b[0m \u001b[0msubprob\u001b[0m\u001b[0;34m.\u001b[0m\u001b[0mterminate\u001b[0m\u001b[0;34m:\u001b[0m\u001b[0;34m\u001b[0m\u001b[0;34m\u001b[0m\u001b[0m\n\u001b[1;32m    330\u001b[0m             \u001b[0;32mbreak\u001b[0m\u001b[0;34m\u001b[0m\u001b[0;34m\u001b[0m\u001b[0m\n",
      "\u001b[0;32m~/opt/anaconda3/lib/python3.7/site-packages/scipy/optimize/_trustregion_constr/equality_constrained_sqp.py\u001b[0m in \u001b[0;36mequality_constrained_sqp\u001b[0;34m(fun_and_constr, grad_and_jac, lagr_hess, x0, fun0, grad0, constr0, jac0, stop_criteria, state, initial_penalty, initial_trust_radius, factorization_method, trust_lb, trust_ub, scaling)\u001b[0m\n\u001b[1;32m     93\u001b[0m     while not stop_criteria(state, x, last_iteration_failed,\n\u001b[1;32m     94\u001b[0m                             \u001b[0moptimality\u001b[0m\u001b[0;34m,\u001b[0m \u001b[0mconstr_violation\u001b[0m\u001b[0;34m,\u001b[0m\u001b[0;34m\u001b[0m\u001b[0;34m\u001b[0m\u001b[0m\n\u001b[0;32m---> 95\u001b[0;31m                             trust_radius, penalty, cg_info):\n\u001b[0m\u001b[1;32m     96\u001b[0m         \u001b[0;31m# Normal Step - `dn`\u001b[0m\u001b[0;34m\u001b[0m\u001b[0;34m\u001b[0m\u001b[0;34m\u001b[0m\u001b[0m\n\u001b[1;32m     97\u001b[0m         \u001b[0;31m# minimize 1/2*||A dn + b||^2\u001b[0m\u001b[0;34m\u001b[0m\u001b[0;34m\u001b[0m\u001b[0;34m\u001b[0m\u001b[0m\n",
      "\u001b[0;32m~/opt/anaconda3/lib/python3.7/site-packages/scipy/optimize/_trustregion_constr/tr_interior_point.py\u001b[0m in \u001b[0;36mstop_criteria\u001b[0;34m(self, state, z, last_iteration_failed, optimality, constr_violation, trust_radius, penalty, cg_info)\u001b[0m\n\u001b[1;32m    254\u001b[0m                                      \u001b[0mcg_info\u001b[0m\u001b[0;34m,\u001b[0m\u001b[0;34m\u001b[0m\u001b[0;34m\u001b[0m\u001b[0m\n\u001b[1;32m    255\u001b[0m                                      \u001b[0mself\u001b[0m\u001b[0;34m.\u001b[0m\u001b[0mbarrier_parameter\u001b[0m\u001b[0;34m,\u001b[0m\u001b[0;34m\u001b[0m\u001b[0;34m\u001b[0m\u001b[0m\n\u001b[0;32m--> 256\u001b[0;31m                                      self.tolerance):\n\u001b[0m\u001b[1;32m    257\u001b[0m             \u001b[0mself\u001b[0m\u001b[0;34m.\u001b[0m\u001b[0mterminate\u001b[0m \u001b[0;34m=\u001b[0m \u001b[0;32mTrue\u001b[0m\u001b[0;34m\u001b[0m\u001b[0;34m\u001b[0m\u001b[0m\n\u001b[1;32m    258\u001b[0m             \u001b[0;32mreturn\u001b[0m \u001b[0;32mTrue\u001b[0m\u001b[0;34m\u001b[0m\u001b[0;34m\u001b[0m\u001b[0m\n",
      "\u001b[0;32m~/opt/anaconda3/lib/python3.7/site-packages/scipy/optimize/_trustregion_constr/minimize_trustregion_constr.py\u001b[0m in \u001b[0;36mstop_criteria\u001b[0;34m(state, x, last_iteration_failed, tr_radius, constr_penalty, cg_info, barrier_parameter, barrier_tolerance)\u001b[0m\n\u001b[1;32m    467\u001b[0m             \u001b[0mstate\u001b[0m\u001b[0;34m.\u001b[0m\u001b[0mstatus\u001b[0m \u001b[0;34m=\u001b[0m \u001b[0;32mNone\u001b[0m\u001b[0;34m\u001b[0m\u001b[0;34m\u001b[0m\u001b[0m\n\u001b[1;32m    468\u001b[0m             \u001b[0mstate\u001b[0m\u001b[0;34m.\u001b[0m\u001b[0mniter\u001b[0m \u001b[0;34m=\u001b[0m \u001b[0mstate\u001b[0m\u001b[0;34m.\u001b[0m\u001b[0mnit\u001b[0m  \u001b[0;31m# Alias for callback (backward compatibility)\u001b[0m\u001b[0;34m\u001b[0m\u001b[0;34m\u001b[0m\u001b[0m\n\u001b[0;32m--> 469\u001b[0;31m             \u001b[0;32mif\u001b[0m \u001b[0mcallback\u001b[0m \u001b[0;32mis\u001b[0m \u001b[0;32mnot\u001b[0m \u001b[0;32mNone\u001b[0m \u001b[0;32mand\u001b[0m \u001b[0mcallback\u001b[0m\u001b[0;34m(\u001b[0m\u001b[0mnp\u001b[0m\u001b[0;34m.\u001b[0m\u001b[0mcopy\u001b[0m\u001b[0;34m(\u001b[0m\u001b[0mstate\u001b[0m\u001b[0;34m.\u001b[0m\u001b[0mx\u001b[0m\u001b[0;34m)\u001b[0m\u001b[0;34m,\u001b[0m \u001b[0mstate\u001b[0m\u001b[0;34m)\u001b[0m\u001b[0;34m:\u001b[0m\u001b[0;34m\u001b[0m\u001b[0;34m\u001b[0m\u001b[0m\n\u001b[0m\u001b[1;32m    470\u001b[0m                 \u001b[0mstate\u001b[0m\u001b[0;34m.\u001b[0m\u001b[0mstatus\u001b[0m \u001b[0;34m=\u001b[0m \u001b[0;36m3\u001b[0m\u001b[0;34m\u001b[0m\u001b[0;34m\u001b[0m\u001b[0m\n\u001b[1;32m    471\u001b[0m             \u001b[0;32melif\u001b[0m \u001b[0mstate\u001b[0m\u001b[0;34m.\u001b[0m\u001b[0moptimality\u001b[0m \u001b[0;34m<\u001b[0m \u001b[0mgtol\u001b[0m \u001b[0;32mand\u001b[0m \u001b[0mstate\u001b[0m\u001b[0;34m.\u001b[0m\u001b[0mconstr_violation\u001b[0m \u001b[0;34m<\u001b[0m \u001b[0mgtol\u001b[0m\u001b[0;34m:\u001b[0m\u001b[0;34m\u001b[0m\u001b[0;34m\u001b[0m\u001b[0m\n",
      "\u001b[0;32m/var/folders/w1/6fpx0_d97jx70b75hbmvqwym0000gn/T/ipykernel_68414/3251864433.py\u001b[0m in \u001b[0;36mcallbackF\u001b[0;34m(svec, status)\u001b[0m\n\u001b[1;32m     23\u001b[0m \u001b[0;31m# Print optimization progress\u001b[0m\u001b[0;34m\u001b[0m\u001b[0;34m\u001b[0m\u001b[0;34m\u001b[0m\u001b[0m\n\u001b[1;32m     24\u001b[0m \u001b[0;32mdef\u001b[0m \u001b[0mcallbackF\u001b[0m\u001b[0;34m(\u001b[0m\u001b[0msvec\u001b[0m\u001b[0;34m,\u001b[0m\u001b[0mstatus\u001b[0m\u001b[0;34m)\u001b[0m\u001b[0;34m:\u001b[0m\u001b[0;34m\u001b[0m\u001b[0;34m\u001b[0m\u001b[0m\n\u001b[0;32m---> 25\u001b[0;31m     \u001b[0mprint\u001b[0m \u001b[0;34m(\u001b[0m\u001b[0msvec\u001b[0m\u001b[0;34m,\u001b[0m\u001b[0mbounds\u001b[0m\u001b[0;34m(\u001b[0m\u001b[0msvec\u001b[0m\u001b[0;34m)\u001b[0m\u001b[0;34m)\u001b[0m\u001b[0;34m\u001b[0m\u001b[0;34m\u001b[0m\u001b[0m\n\u001b[0m",
      "\u001b[0;32m/var/folders/w1/6fpx0_d97jx70b75hbmvqwym0000gn/T/ipykernel_68414/3251864433.py\u001b[0m in \u001b[0;36mbounds\u001b[0;34m(svec, p_correct)\u001b[0m\n\u001b[1;32m      7\u001b[0m \u001b[0;32mdef\u001b[0m \u001b[0mbounds\u001b[0m\u001b[0;34m(\u001b[0m\u001b[0msvec\u001b[0m\u001b[0;34m,\u001b[0m \u001b[0mp_correct\u001b[0m \u001b[0;34m=\u001b[0m \u001b[0mp_correct_vals\u001b[0m\u001b[0;34m[\u001b[0m\u001b[0;36m0\u001b[0m\u001b[0;34m]\u001b[0m\u001b[0;34m)\u001b[0m\u001b[0;34m:\u001b[0m\u001b[0;34m\u001b[0m\u001b[0;34m\u001b[0m\u001b[0m\n\u001b[1;32m      8\u001b[0m                 \u001b[0mnx\u001b[0m\u001b[0;34m,\u001b[0m \u001b[0mnu\u001b[0m\u001b[0;34m,\u001b[0m \u001b[0mny\u001b[0m\u001b[0;34m,\u001b[0m \u001b[0mT\u001b[0m\u001b[0;34m,\u001b[0m \u001b[0mp0\u001b[0m\u001b[0;34m,\u001b[0m \u001b[0mpx_x\u001b[0m\u001b[0;34m,\u001b[0m \u001b[0mpy_x\u001b[0m\u001b[0;34m,\u001b[0m \u001b[0mR\u001b[0m\u001b[0;34m,\u001b[0m \u001b[0mR0_expected\u001b[0m \u001b[0;34m=\u001b[0m \u001b[0mlava_problem\u001b[0m\u001b[0;34m(\u001b[0m\u001b[0;34m[\u001b[0m\u001b[0;34m'--p_correct'\u001b[0m\u001b[0;34m,\u001b[0m \u001b[0mstr\u001b[0m\u001b[0;34m(\u001b[0m\u001b[0mp_correct\u001b[0m\u001b[0;34m)\u001b[0m\u001b[0;34m,\u001b[0m \u001b[0;34m'--reward_x'\u001b[0m\u001b[0;34m,\u001b[0m \u001b[0mstr\u001b[0m\u001b[0;34m(\u001b[0m\u001b[0mreward_x\u001b[0m\u001b[0;34m)\u001b[0m\u001b[0;34m]\u001b[0m\u001b[0;34m)\u001b[0m\u001b[0;34m\u001b[0m\u001b[0;34m\u001b[0m\u001b[0m\n\u001b[0;32m----> 9\u001b[0;31m                 \u001b[0mbound_f_inverse\u001b[0m \u001b[0;34m=\u001b[0m \u001b[0mcompute_bound\u001b[0m\u001b[0;34m(\u001b[0m\u001b[0ml\u001b[0m\u001b[0;34m,\u001b[0m\u001b[0mn\u001b[0m\u001b[0;34m,\u001b[0m\u001b[0msvec\u001b[0m\u001b[0;34m,\u001b[0m \u001b[0mnx\u001b[0m\u001b[0;34m,\u001b[0m \u001b[0mnu\u001b[0m\u001b[0;34m,\u001b[0m \u001b[0mny\u001b[0m\u001b[0;34m,\u001b[0m \u001b[0mT\u001b[0m\u001b[0;34m,\u001b[0m \u001b[0mp0\u001b[0m\u001b[0;34m,\u001b[0m \u001b[0mpx_x\u001b[0m\u001b[0;34m,\u001b[0m \u001b[0mpy_x\u001b[0m\u001b[0;34m,\u001b[0m \u001b[0mR\u001b[0m\u001b[0;34m,\u001b[0m \u001b[0mR0_expected\u001b[0m\u001b[0;34m)\u001b[0m\u001b[0;34m\u001b[0m\u001b[0;34m\u001b[0m\u001b[0m\n\u001b[0m\u001b[1;32m     10\u001b[0m                 \u001b[0;32mreturn\u001b[0m \u001b[0mbound_f_inverse\u001b[0m\u001b[0;34m\u001b[0m\u001b[0;34m\u001b[0m\u001b[0m\n\u001b[1;32m     11\u001b[0m \u001b[0;34m\u001b[0m\u001b[0m\n",
      "\u001b[0;32m~/Desktop/IROM/performance-limits/lava-problem/bound_rewards_l.py\u001b[0m in \u001b[0;36mcompute_bound\u001b[0;34m(l, n, svec, nx, nu, ny, T, p0, px_x, py_x, R, R0_expected)\u001b[0m\n\u001b[1;32m    229\u001b[0m         \u001b[0;32mfor\u001b[0m \u001b[0mH\u001b[0m \u001b[0;32min\u001b[0m \u001b[0mrange\u001b[0m\u001b[0;34m(\u001b[0m\u001b[0;36m1\u001b[0m\u001b[0;34m,\u001b[0m\u001b[0mT\u001b[0m\u001b[0;34m+\u001b[0m\u001b[0;36m1\u001b[0m\u001b[0;34m)\u001b[0m\u001b[0;34m:\u001b[0m \u001b[0;31m# for horizon H = 1,...T\u001b[0m\u001b[0;34m\u001b[0m\u001b[0;34m\u001b[0m\u001b[0m\n\u001b[1;32m    230\u001b[0m                 \u001b[0;31m# Compute bound for different horizons. Use bound from H to get estimate for bound with H+1.\u001b[0m\u001b[0;34m\u001b[0m\u001b[0;34m\u001b[0m\u001b[0;34m\u001b[0m\u001b[0m\n\u001b[0;32m--> 231\u001b[0;31m                 \u001b[0mbound\u001b[0m \u001b[0;34m=\u001b[0m \u001b[0mcompute_bound_H\u001b[0m\u001b[0;34m(\u001b[0m\u001b[0ml\u001b[0m\u001b[0;34m,\u001b[0m\u001b[0mn\u001b[0m\u001b[0;34m,\u001b[0m\u001b[0msvec\u001b[0m\u001b[0;34m,\u001b[0m \u001b[0mnx\u001b[0m\u001b[0;34m,\u001b[0m \u001b[0mnu\u001b[0m\u001b[0;34m,\u001b[0m \u001b[0mny\u001b[0m\u001b[0;34m,\u001b[0m \u001b[0mH\u001b[0m\u001b[0;34m,\u001b[0m \u001b[0mp0\u001b[0m\u001b[0;34m,\u001b[0m \u001b[0mpx\u001b[0m\u001b[0;34m,\u001b[0m \u001b[0mpx_x\u001b[0m\u001b[0;34m,\u001b[0m \u001b[0mpy_x\u001b[0m\u001b[0;34m,\u001b[0m \u001b[0mR\u001b[0m\u001b[0;34m,\u001b[0m \u001b[0mu_seqs_all\u001b[0m\u001b[0;34m)\u001b[0m\u001b[0;34m\u001b[0m\u001b[0;34m\u001b[0m\u001b[0m\n\u001b[0m\u001b[1;32m    232\u001b[0m                 \u001b[0mbound\u001b[0m \u001b[0;34m=\u001b[0m \u001b[0mbound\u001b[0m \u001b[0;34m+\u001b[0m \u001b[0;34m(\u001b[0m\u001b[0mT\u001b[0m\u001b[0;34m-\u001b[0m\u001b[0mH\u001b[0m\u001b[0;34m)\u001b[0m \u001b[0;31m# Add possible rewars from H to T\u001b[0m\u001b[0;34m\u001b[0m\u001b[0;34m\u001b[0m\u001b[0m\n\u001b[1;32m    233\u001b[0m                 \u001b[0mbound\u001b[0m \u001b[0;34m=\u001b[0m \u001b[0mbound\u001b[0m \u001b[0;34m+\u001b[0m \u001b[0mR0_expected\u001b[0m \u001b[0;31m# Add in expected reward from initial state\u001b[0m\u001b[0;34m\u001b[0m\u001b[0;34m\u001b[0m\u001b[0m\n",
      "\u001b[0;32m~/Desktop/IROM/performance-limits/lava-problem/bound_rewards_l.py\u001b[0m in \u001b[0;36mcompute_bound_H\u001b[0;34m(l, n, svec, nx, nu, ny, H, p0, px, px_x, py_x, R, u_seqs_all)\u001b[0m\n\u001b[1;32m    139\u001b[0m                                 \u001b[0mab\u001b[0m \u001b[0;34m=\u001b[0m \u001b[0;34m[\u001b[0m\u001b[0ma_scale\u001b[0m\u001b[0;34m,\u001b[0m \u001b[0mb_scale\u001b[0m\u001b[0;34m]\u001b[0m\u001b[0;34m\u001b[0m\u001b[0;34m\u001b[0m\u001b[0m\n\u001b[1;32m    140\u001b[0m                                 \u001b[0;31m# Compute bound\u001b[0m\u001b[0;34m\u001b[0m\u001b[0;34m\u001b[0m\u001b[0;34m\u001b[0m\u001b[0m\n\u001b[0;32m--> 141\u001b[0;31m                                 \u001b[0mbound\u001b[0m \u001b[0;34m=\u001b[0m \u001b[0mbound_scaled\u001b[0m\u001b[0;34m(\u001b[0m\u001b[0ml\u001b[0m\u001b[0;34m,\u001b[0m\u001b[0mn\u001b[0m\u001b[0;34m,\u001b[0m\u001b[0msvec\u001b[0m\u001b[0;34m,\u001b[0m \u001b[0mab\u001b[0m\u001b[0;34m,\u001b[0m \u001b[0mI\u001b[0m\u001b[0;34m,\u001b[0m \u001b[0mR_plus_R_next\u001b[0m\u001b[0;34m,\u001b[0m \u001b[0mpx_u_seq\u001b[0m\u001b[0;34m)\u001b[0m\u001b[0;34m\u001b[0m\u001b[0;34m\u001b[0m\u001b[0m\n\u001b[0m\u001b[1;32m    142\u001b[0m \u001b[0;34m\u001b[0m\u001b[0m\n\u001b[1;32m    143\u001b[0m                                 \u001b[0;31m# # Version with optimal scaling\u001b[0m\u001b[0;34m\u001b[0m\u001b[0;34m\u001b[0m\u001b[0;34m\u001b[0m\u001b[0m\n",
      "\u001b[0;32m~/Desktop/IROM/performance-limits/lava-problem/bound_rewards_l.py\u001b[0m in \u001b[0;36mbound_scaled\u001b[0;34m(l, n, svec, ab, I, R_plus_R_next, px_u_seq)\u001b[0m\n\u001b[1;32m     81\u001b[0m \u001b[0;34m\u001b[0m\u001b[0m\n\u001b[1;32m     82\u001b[0m         \u001b[0;31m# Compute bound\u001b[0m\u001b[0;34m\u001b[0m\u001b[0;34m\u001b[0m\u001b[0;34m\u001b[0m\u001b[0m\n\u001b[0;32m---> 83\u001b[0;31m         \u001b[0mbound\u001b[0m \u001b[0;34m=\u001b[0m \u001b[0mf_inverse\u001b[0m\u001b[0;34m(\u001b[0m\u001b[0ml\u001b[0m\u001b[0;34m,\u001b[0m\u001b[0mn\u001b[0m\u001b[0;34m,\u001b[0m\u001b[0msvec\u001b[0m\u001b[0;34m,\u001b[0m \u001b[0mRt_perp\u001b[0m\u001b[0;34m,\u001b[0m \u001b[0mI\u001b[0m\u001b[0;34m)\u001b[0m\u001b[0;34m\u001b[0m\u001b[0;34m\u001b[0m\u001b[0m\n\u001b[0m\u001b[1;32m     84\u001b[0m \u001b[0;34m\u001b[0m\u001b[0m\n\u001b[1;32m     85\u001b[0m         \u001b[0;31m# Scale it back\u001b[0m\u001b[0;34m\u001b[0m\u001b[0;34m\u001b[0m\u001b[0;34m\u001b[0m\u001b[0m\n",
      "\u001b[0;32m~/Desktop/IROM/performance-limits/lava-problem/bound_rewards_l.py\u001b[0m in \u001b[0;36mf_inverse\u001b[0;34m(l, n, svec, q, c)\u001b[0m\n\u001b[1;32m     63\u001b[0m \u001b[0;34m\u001b[0m\u001b[0m\n\u001b[1;32m     64\u001b[0m     \u001b[0;31m# Solve problem\u001b[0m\u001b[0;34m\u001b[0m\u001b[0;34m\u001b[0m\u001b[0;34m\u001b[0m\u001b[0m\n\u001b[0;32m---> 65\u001b[0;31m     \u001b[0mprob\u001b[0m\u001b[0;34m.\u001b[0m\u001b[0msolve\u001b[0m\u001b[0;34m(\u001b[0m\u001b[0msolver\u001b[0m\u001b[0;34m=\u001b[0m\u001b[0mcvx\u001b[0m\u001b[0;34m.\u001b[0m\u001b[0mMOSEK\u001b[0m\u001b[0;34m,\u001b[0m \u001b[0mverbose\u001b[0m\u001b[0;34m=\u001b[0m\u001b[0;32mFalse\u001b[0m\u001b[0;34m)\u001b[0m \u001b[0;31m# solver=cvx.MOSEK\u001b[0m\u001b[0;34m\u001b[0m\u001b[0;34m\u001b[0m\u001b[0m\n\u001b[0m\u001b[1;32m     66\u001b[0m \u001b[0;34m\u001b[0m\u001b[0m\n\u001b[1;32m     67\u001b[0m     \u001b[0;32mreturn\u001b[0m \u001b[0mp_ber\u001b[0m\u001b[0;34m.\u001b[0m\u001b[0mvalue\u001b[0m\u001b[0;34m[\u001b[0m\u001b[0;36m0\u001b[0m\u001b[0;34m]\u001b[0m\u001b[0;34m\u001b[0m\u001b[0;34m\u001b[0m\u001b[0m\n",
      "\u001b[0;32m~/opt/anaconda3/lib/python3.7/site-packages/cvxpy/problems/problem.py\u001b[0m in \u001b[0;36msolve\u001b[0;34m(self, *args, **kwargs)\u001b[0m\n\u001b[1;32m    479\u001b[0m         \u001b[0;32melse\u001b[0m\u001b[0;34m:\u001b[0m\u001b[0;34m\u001b[0m\u001b[0;34m\u001b[0m\u001b[0m\n\u001b[1;32m    480\u001b[0m             \u001b[0msolve_func\u001b[0m \u001b[0;34m=\u001b[0m \u001b[0mProblem\u001b[0m\u001b[0;34m.\u001b[0m\u001b[0m_solve\u001b[0m\u001b[0;34m\u001b[0m\u001b[0;34m\u001b[0m\u001b[0m\n\u001b[0;32m--> 481\u001b[0;31m         \u001b[0;32mreturn\u001b[0m \u001b[0msolve_func\u001b[0m\u001b[0;34m(\u001b[0m\u001b[0mself\u001b[0m\u001b[0;34m,\u001b[0m \u001b[0;34m*\u001b[0m\u001b[0margs\u001b[0m\u001b[0;34m,\u001b[0m \u001b[0;34m**\u001b[0m\u001b[0mkwargs\u001b[0m\u001b[0;34m)\u001b[0m\u001b[0;34m\u001b[0m\u001b[0;34m\u001b[0m\u001b[0m\n\u001b[0m\u001b[1;32m    482\u001b[0m \u001b[0;34m\u001b[0m\u001b[0m\n\u001b[1;32m    483\u001b[0m     \u001b[0;34m@\u001b[0m\u001b[0mclassmethod\u001b[0m\u001b[0;34m\u001b[0m\u001b[0;34m\u001b[0m\u001b[0m\n",
      "\u001b[0;32m~/opt/anaconda3/lib/python3.7/site-packages/cvxpy/problems/problem.py\u001b[0m in \u001b[0;36m_solve\u001b[0;34m(self, solver, warm_start, verbose, gp, qcp, requires_grad, enforce_dpp, ignore_dpp, **kwargs)\u001b[0m\n\u001b[1;32m   1006\u001b[0m \u001b[0;34m\u001b[0m\u001b[0m\n\u001b[1;32m   1007\u001b[0m         data, solving_chain, inverse_data = self.get_problem_data(\n\u001b[0;32m-> 1008\u001b[0;31m             solver, gp, enforce_dpp, ignore_dpp, verbose)\n\u001b[0m\u001b[1;32m   1009\u001b[0m \u001b[0;34m\u001b[0m\u001b[0m\n\u001b[1;32m   1010\u001b[0m         \u001b[0;32mif\u001b[0m \u001b[0mverbose\u001b[0m\u001b[0;34m:\u001b[0m\u001b[0;34m\u001b[0m\u001b[0;34m\u001b[0m\u001b[0m\n",
      "\u001b[0;32m~/opt/anaconda3/lib/python3.7/site-packages/cvxpy/problems/problem.py\u001b[0m in \u001b[0;36mget_problem_data\u001b[0;34m(self, solver, gp, enforce_dpp, ignore_dpp, verbose)\u001b[0m\n\u001b[1;32m    653\u001b[0m                          'Compiling problem (target solver=%s).', solver_name)\n\u001b[1;32m    654\u001b[0m                 \u001b[0ms\u001b[0m\u001b[0;34m.\u001b[0m\u001b[0mLOGGER\u001b[0m\u001b[0;34m.\u001b[0m\u001b[0minfo\u001b[0m\u001b[0;34m(\u001b[0m\u001b[0;34m'Reduction chain: %s'\u001b[0m\u001b[0;34m,\u001b[0m \u001b[0mreduction_chain_str\u001b[0m\u001b[0;34m)\u001b[0m\u001b[0;34m\u001b[0m\u001b[0;34m\u001b[0m\u001b[0m\n\u001b[0;32m--> 655\u001b[0;31m             \u001b[0mdata\u001b[0m\u001b[0;34m,\u001b[0m \u001b[0minverse_data\u001b[0m \u001b[0;34m=\u001b[0m \u001b[0msolving_chain\u001b[0m\u001b[0;34m.\u001b[0m\u001b[0mapply\u001b[0m\u001b[0;34m(\u001b[0m\u001b[0mself\u001b[0m\u001b[0;34m,\u001b[0m \u001b[0mverbose\u001b[0m\u001b[0;34m)\u001b[0m\u001b[0;34m\u001b[0m\u001b[0;34m\u001b[0m\u001b[0m\n\u001b[0m\u001b[1;32m    656\u001b[0m             safe_to_cache = (\n\u001b[1;32m    657\u001b[0m                 \u001b[0misinstance\u001b[0m\u001b[0;34m(\u001b[0m\u001b[0mdata\u001b[0m\u001b[0;34m,\u001b[0m \u001b[0mdict\u001b[0m\u001b[0;34m)\u001b[0m\u001b[0;34m\u001b[0m\u001b[0;34m\u001b[0m\u001b[0m\n",
      "\u001b[0;32m~/opt/anaconda3/lib/python3.7/site-packages/cvxpy/reductions/chain.py\u001b[0m in \u001b[0;36mapply\u001b[0;34m(self, problem, verbose)\u001b[0m\n\u001b[1;32m     74\u001b[0m             \u001b[0;32mif\u001b[0m \u001b[0mverbose\u001b[0m\u001b[0;34m:\u001b[0m\u001b[0;34m\u001b[0m\u001b[0;34m\u001b[0m\u001b[0m\n\u001b[1;32m     75\u001b[0m                 \u001b[0ms\u001b[0m\u001b[0;34m.\u001b[0m\u001b[0mLOGGER\u001b[0m\u001b[0;34m.\u001b[0m\u001b[0minfo\u001b[0m\u001b[0;34m(\u001b[0m\u001b[0;34m'Applying reduction %s'\u001b[0m\u001b[0;34m,\u001b[0m \u001b[0mtype\u001b[0m\u001b[0;34m(\u001b[0m\u001b[0mr\u001b[0m\u001b[0;34m)\u001b[0m\u001b[0;34m.\u001b[0m\u001b[0m__name__\u001b[0m\u001b[0;34m)\u001b[0m\u001b[0;34m\u001b[0m\u001b[0;34m\u001b[0m\u001b[0m\n\u001b[0;32m---> 76\u001b[0;31m             \u001b[0mproblem\u001b[0m\u001b[0;34m,\u001b[0m \u001b[0minv\u001b[0m \u001b[0;34m=\u001b[0m \u001b[0mr\u001b[0m\u001b[0;34m.\u001b[0m\u001b[0mapply\u001b[0m\u001b[0;34m(\u001b[0m\u001b[0mproblem\u001b[0m\u001b[0;34m)\u001b[0m\u001b[0;34m\u001b[0m\u001b[0;34m\u001b[0m\u001b[0m\n\u001b[0m\u001b[1;32m     77\u001b[0m             \u001b[0minverse_data\u001b[0m\u001b[0;34m.\u001b[0m\u001b[0mappend\u001b[0m\u001b[0;34m(\u001b[0m\u001b[0minv\u001b[0m\u001b[0;34m)\u001b[0m\u001b[0;34m\u001b[0m\u001b[0;34m\u001b[0m\u001b[0m\n\u001b[1;32m     78\u001b[0m         \u001b[0;32mreturn\u001b[0m \u001b[0mproblem\u001b[0m\u001b[0;34m,\u001b[0m \u001b[0minverse_data\u001b[0m\u001b[0;34m\u001b[0m\u001b[0;34m\u001b[0m\u001b[0m\n",
      "\u001b[0;32m~/opt/anaconda3/lib/python3.7/site-packages/cvxpy/reductions/solvers/conic_solvers/mosek_conif.py\u001b[0m in \u001b[0;36mapply\u001b[0;34m(self, problem)\u001b[0m\n\u001b[1;32m    182\u001b[0m             \u001b[0mdata\u001b[0m\u001b[0;34m,\u001b[0m \u001b[0minv_data\u001b[0m \u001b[0;34m=\u001b[0m \u001b[0mSlacks\u001b[0m\u001b[0;34m.\u001b[0m\u001b[0mapply\u001b[0m\u001b[0;34m(\u001b[0m\u001b[0mproblem\u001b[0m\u001b[0;34m,\u001b[0m \u001b[0;34m[\u001b[0m\u001b[0ma2d\u001b[0m\u001b[0;34m.\u001b[0m\u001b[0mNONNEG\u001b[0m\u001b[0;34m]\u001b[0m\u001b[0;34m)\u001b[0m\u001b[0;34m\u001b[0m\u001b[0;34m\u001b[0m\u001b[0m\n\u001b[1;32m    183\u001b[0m         \u001b[0;32melse\u001b[0m\u001b[0;34m:\u001b[0m\u001b[0;34m\u001b[0m\u001b[0;34m\u001b[0m\u001b[0m\n\u001b[0;32m--> 184\u001b[0;31m             \u001b[0mdata\u001b[0m\u001b[0;34m,\u001b[0m \u001b[0minv_data\u001b[0m \u001b[0;34m=\u001b[0m \u001b[0mDualize\u001b[0m\u001b[0;34m.\u001b[0m\u001b[0mapply\u001b[0m\u001b[0;34m(\u001b[0m\u001b[0mproblem\u001b[0m\u001b[0;34m)\u001b[0m\u001b[0;34m\u001b[0m\u001b[0;34m\u001b[0m\u001b[0m\n\u001b[0m\u001b[1;32m    185\u001b[0m             \u001b[0;31m# need to do more to handle SDP.\u001b[0m\u001b[0;34m\u001b[0m\u001b[0;34m\u001b[0m\u001b[0;34m\u001b[0m\u001b[0m\n\u001b[1;32m    186\u001b[0m             \u001b[0mA\u001b[0m\u001b[0;34m,\u001b[0m \u001b[0mc\u001b[0m\u001b[0;34m,\u001b[0m \u001b[0mK\u001b[0m \u001b[0;34m=\u001b[0m \u001b[0mdata\u001b[0m\u001b[0;34m[\u001b[0m\u001b[0ms\u001b[0m\u001b[0;34m.\u001b[0m\u001b[0mA\u001b[0m\u001b[0;34m]\u001b[0m\u001b[0;34m,\u001b[0m \u001b[0mdata\u001b[0m\u001b[0;34m[\u001b[0m\u001b[0ms\u001b[0m\u001b[0;34m.\u001b[0m\u001b[0mC\u001b[0m\u001b[0;34m]\u001b[0m\u001b[0;34m,\u001b[0m \u001b[0mdata\u001b[0m\u001b[0;34m[\u001b[0m\u001b[0;34m'K_dir'\u001b[0m\u001b[0;34m]\u001b[0m\u001b[0;34m\u001b[0m\u001b[0;34m\u001b[0m\u001b[0m\n",
      "\u001b[0;32m~/opt/anaconda3/lib/python3.7/site-packages/cvxpy/reductions/cone2cone/affine2direct.py\u001b[0m in \u001b[0;36mapply\u001b[0;34m(problem)\u001b[0m\n\u001b[1;32m     94\u001b[0m     \u001b[0;34m@\u001b[0m\u001b[0mstaticmethod\u001b[0m\u001b[0;34m\u001b[0m\u001b[0;34m\u001b[0m\u001b[0m\n\u001b[1;32m     95\u001b[0m     \u001b[0;32mdef\u001b[0m \u001b[0mapply\u001b[0m\u001b[0;34m(\u001b[0m\u001b[0mproblem\u001b[0m\u001b[0;34m)\u001b[0m\u001b[0;34m:\u001b[0m\u001b[0;34m\u001b[0m\u001b[0;34m\u001b[0m\u001b[0m\n\u001b[0;32m---> 96\u001b[0;31m         \u001b[0mc\u001b[0m\u001b[0;34m,\u001b[0m \u001b[0md\u001b[0m\u001b[0;34m,\u001b[0m \u001b[0mA\u001b[0m\u001b[0;34m,\u001b[0m \u001b[0mb\u001b[0m \u001b[0;34m=\u001b[0m \u001b[0mproblem\u001b[0m\u001b[0;34m.\u001b[0m\u001b[0mapply_parameters\u001b[0m\u001b[0;34m(\u001b[0m\u001b[0;34m)\u001b[0m\u001b[0;34m\u001b[0m\u001b[0;34m\u001b[0m\u001b[0m\n\u001b[0m\u001b[1;32m     97\u001b[0m         \u001b[0mKp\u001b[0m \u001b[0;34m=\u001b[0m \u001b[0mproblem\u001b[0m\u001b[0;34m.\u001b[0m\u001b[0mcone_dims\u001b[0m  \u001b[0;31m# zero, nonneg, exp, soc, psd\u001b[0m\u001b[0;34m\u001b[0m\u001b[0;34m\u001b[0m\u001b[0m\n\u001b[1;32m     98\u001b[0m         Kd = {\n",
      "\u001b[0;32m~/opt/anaconda3/lib/python3.7/site-packages/cvxpy/reductions/dcp2cone/cone_matrix_stuffing.py\u001b[0m in \u001b[0;36mapply_parameters\u001b[0;34m(self, id_to_param_value, zero_offset, keep_zeros)\u001b[0m\n\u001b[1;32m    201\u001b[0m             \u001b[0mself\u001b[0m\u001b[0;34m.\u001b[0m\u001b[0mreduced_A\u001b[0m\u001b[0;34m,\u001b[0m \u001b[0mparam_vec\u001b[0m\u001b[0;34m,\u001b[0m \u001b[0mself\u001b[0m\u001b[0;34m.\u001b[0m\u001b[0mx\u001b[0m\u001b[0;34m.\u001b[0m\u001b[0msize\u001b[0m\u001b[0;34m,\u001b[0m\u001b[0;34m\u001b[0m\u001b[0;34m\u001b[0m\u001b[0m\n\u001b[1;32m    202\u001b[0m             \u001b[0mnonzero_rows\u001b[0m\u001b[0;34m=\u001b[0m\u001b[0mself\u001b[0m\u001b[0;34m.\u001b[0m\u001b[0m_A_mapping_nonzero\u001b[0m\u001b[0;34m,\u001b[0m \u001b[0mwith_offset\u001b[0m\u001b[0;34m=\u001b[0m\u001b[0;32mTrue\u001b[0m\u001b[0;34m,\u001b[0m\u001b[0;34m\u001b[0m\u001b[0;34m\u001b[0m\u001b[0m\n\u001b[0;32m--> 203\u001b[0;31m             problem_data_index=self.problem_data_index)\n\u001b[0m\u001b[1;32m    204\u001b[0m         \u001b[0;32mreturn\u001b[0m \u001b[0mc\u001b[0m\u001b[0;34m,\u001b[0m \u001b[0md\u001b[0m\u001b[0;34m,\u001b[0m \u001b[0mA\u001b[0m\u001b[0;34m,\u001b[0m \u001b[0mnp\u001b[0m\u001b[0;34m.\u001b[0m\u001b[0matleast_1d\u001b[0m\u001b[0;34m(\u001b[0m\u001b[0mb\u001b[0m\u001b[0;34m)\u001b[0m\u001b[0;34m\u001b[0m\u001b[0;34m\u001b[0m\u001b[0m\n\u001b[1;32m    205\u001b[0m \u001b[0;34m\u001b[0m\u001b[0m\n",
      "\u001b[0;32m~/opt/anaconda3/lib/python3.7/site-packages/cvxpy/cvxcore/python/canonInterface.py\u001b[0m in \u001b[0;36mget_matrix_from_tensor\u001b[0;34m(problem_data_tensor, param_vec, var_length, nonzero_rows, with_offset, problem_data_index)\u001b[0m\n\u001b[1;32m    231\u001b[0m     \u001b[0;32mif\u001b[0m \u001b[0mwith_offset\u001b[0m\u001b[0;34m:\u001b[0m\u001b[0;34m\u001b[0m\u001b[0;34m\u001b[0m\u001b[0m\n\u001b[1;32m    232\u001b[0m         \u001b[0mA\u001b[0m \u001b[0;34m=\u001b[0m \u001b[0mM\u001b[0m\u001b[0;34m[\u001b[0m\u001b[0;34m:\u001b[0m\u001b[0;34m,\u001b[0m \u001b[0;34m:\u001b[0m\u001b[0;34m-\u001b[0m\u001b[0;36m1\u001b[0m\u001b[0;34m]\u001b[0m\u001b[0;34m.\u001b[0m\u001b[0mtocsc\u001b[0m\u001b[0;34m(\u001b[0m\u001b[0;34m)\u001b[0m\u001b[0;34m\u001b[0m\u001b[0;34m\u001b[0m\u001b[0m\n\u001b[0;32m--> 233\u001b[0;31m         \u001b[0mb\u001b[0m \u001b[0;34m=\u001b[0m \u001b[0mnp\u001b[0m\u001b[0;34m.\u001b[0m\u001b[0msqueeze\u001b[0m\u001b[0;34m(\u001b[0m\u001b[0mM\u001b[0m\u001b[0;34m[\u001b[0m\u001b[0;34m:\u001b[0m\u001b[0;34m,\u001b[0m \u001b[0;34m-\u001b[0m\u001b[0;36m1\u001b[0m\u001b[0;34m]\u001b[0m\u001b[0;34m.\u001b[0m\u001b[0mtoarray\u001b[0m\u001b[0;34m(\u001b[0m\u001b[0;34m)\u001b[0m\u001b[0;34m.\u001b[0m\u001b[0mflatten\u001b[0m\u001b[0;34m(\u001b[0m\u001b[0;34m)\u001b[0m\u001b[0;34m)\u001b[0m\u001b[0;34m\u001b[0m\u001b[0;34m\u001b[0m\u001b[0m\n\u001b[0m\u001b[1;32m    234\u001b[0m     \u001b[0;32melse\u001b[0m\u001b[0;34m:\u001b[0m\u001b[0;34m\u001b[0m\u001b[0;34m\u001b[0m\u001b[0m\n\u001b[1;32m    235\u001b[0m         \u001b[0mA\u001b[0m \u001b[0;34m=\u001b[0m \u001b[0mM\u001b[0m\u001b[0;34m.\u001b[0m\u001b[0mtocsc\u001b[0m\u001b[0;34m(\u001b[0m\u001b[0;34m)\u001b[0m\u001b[0;34m\u001b[0m\u001b[0;34m\u001b[0m\u001b[0m\n",
      "\u001b[0;32m~/opt/anaconda3/lib/python3.7/site-packages/scipy/sparse/_index.py\u001b[0m in \u001b[0;36m__getitem__\u001b[0;34m(self, key)\u001b[0m\n\u001b[1;32m     30\u001b[0m     \u001b[0mThis\u001b[0m \u001b[0;32mclass\u001b[0m \u001b[0mprovides\u001b[0m \u001b[0mcommon\u001b[0m \u001b[0mdispatching\u001b[0m \u001b[0;32mand\u001b[0m \u001b[0mvalidation\u001b[0m \u001b[0mlogic\u001b[0m \u001b[0;32mfor\u001b[0m \u001b[0mindexing\u001b[0m\u001b[0;34m.\u001b[0m\u001b[0;34m\u001b[0m\u001b[0;34m\u001b[0m\u001b[0m\n\u001b[1;32m     31\u001b[0m     \"\"\"\n\u001b[0;32m---> 32\u001b[0;31m     \u001b[0;32mdef\u001b[0m \u001b[0m__getitem__\u001b[0m\u001b[0;34m(\u001b[0m\u001b[0mself\u001b[0m\u001b[0;34m,\u001b[0m \u001b[0mkey\u001b[0m\u001b[0;34m)\u001b[0m\u001b[0;34m:\u001b[0m\u001b[0;34m\u001b[0m\u001b[0;34m\u001b[0m\u001b[0m\n\u001b[0m\u001b[1;32m     33\u001b[0m         \u001b[0mrow\u001b[0m\u001b[0;34m,\u001b[0m \u001b[0mcol\u001b[0m \u001b[0;34m=\u001b[0m \u001b[0mself\u001b[0m\u001b[0;34m.\u001b[0m\u001b[0m_validate_indices\u001b[0m\u001b[0;34m(\u001b[0m\u001b[0mkey\u001b[0m\u001b[0;34m)\u001b[0m\u001b[0;34m\u001b[0m\u001b[0;34m\u001b[0m\u001b[0m\n\u001b[1;32m     34\u001b[0m         \u001b[0;31m# Dispatch to specialized methods.\u001b[0m\u001b[0;34m\u001b[0m\u001b[0;34m\u001b[0m\u001b[0;34m\u001b[0m\u001b[0m\n",
      "\u001b[0;31mKeyboardInterrupt\u001b[0m: "
     ]
    }
   ],
   "source": [
    "minimize(0.6289473684210526,[-1.18994735, -1.03399307,  0.7820952,   1.47360323])"
   ]
  },
  {
   "cell_type": "code",
   "execution_count": 27,
   "metadata": {},
   "outputs": [
    {
     "data": {
      "text/plain": [
       "4.161923218256493"
      ]
     },
     "execution_count": 27,
     "metadata": {},
     "output_type": "execute_result"
    }
   ],
   "source": [
    "\n",
    "bounds([-3.53,1.18,1.18,1.18],0.6289473684210526)"
   ]
  },
  {
   "cell_type": "code",
   "execution_count": 45,
   "metadata": {},
   "outputs": [
    {
     "data": {
      "image/png": "[encoded data removed]",
      "text/plain": [
       "<Figure size 900x600 with 1 Axes>"
      ]
     },
     "metadata": {
      "needs_background": "light"
     },
     "output_type": "display_data"
    }
   ],
   "source": [
    "# Plot POMDP v picked tightest bounds\n",
    "opt_data = np.load(\"results/lava_problem_optimal_results.npz\")\n",
    "p_correct_vals = opt_data['p_correct_vals']\n",
    "opt_values = opt_data['opt_values']\n",
    "\n",
    "# Plot\n",
    "fig, ax = plt.subplots()\n",
    "ax.plot(p_correct_vals, opt_values, '*--', label='POMDP', linewidth=0.5)\n",
    "\n",
    "data = np.load(\"tightest_bounds.npz\")\n",
    "bounds = data['bounds']\n",
    "ax.plot(p_correct_vals, bounds, 'o--', label='Tightest bounds', linewidth=1) \n",
    "\n",
    "ax.plot(p_correct_vals[0:5],[4.0531239449,3.9676793198,3.777793097,3.5682540424,3.4912805122],'+--',label='New results')\n",
    "\n",
    "plt.xlabel('$p_{correct}$', fontsize=15)\n",
    "plt.ylabel('Cumulative reward', fontsize=15)\n",
    "plt.legend(fontsize=12, loc='lower right')\n",
    "plt.ylim([0, 5.01])\n",
    "plt.gcf().set_dpi(150)\n",
    "plt.show() "
   ]
  },
  {
   "cell_type": "code",
   "execution_count": 16,
   "metadata": {},
   "outputs": [
    {
     "name": "stderr",
     "output_type": "stream",
     "text": [
      "/Users/dell/opt/anaconda3/lib/python3.7/site-packages/ipykernel_launcher.py:1: VisibleDeprecationWarning: Creating an ndarray from ragged nested sequences (which is a list-or-tuple of lists-or-tuples-or ndarrays with different lengths or shapes) is deprecated. If you meant to do this, you must specify 'dtype=object' when creating the ndarray.\n",
      "  \"\"\"Entry point for launching an IPython kernel.\n"
     ]
    }
   ],
   "source": [
    "\n",
    "y=np.array(opt_results)\n",
    "np.savez('y.npz',y)"
   ]
  },
  {
   "cell_type": "code",
   "execution_count": 17,
   "metadata": {},
   "outputs": [],
   "source": [
    "data = np.load('y.npz')"
   ]
  },
  {
   "cell_type": "code",
   "execution_count": 19,
   "metadata": {},
   "outputs": [],
   "source": [
    "tight_data = np.load(\"tightest_bounds.npz\")"
   ]
  },
  {
   "cell_type": "code",
   "execution_count": 25,
   "metadata": {},
   "outputs": [
    {
     "data": {
      "text/plain": [
       "array([4.05312389, 3.96767919, 3.77779307, 3.56825402, 3.49128049,\n",
       "       3.70081956, 3.86002083, 3.98079783, 4.04926083, 4.10458269,\n",
       "       4.13508936, 4.16309059, 4.18891699, 4.21277768, 4.2348377 ,\n",
       "       4.25523239, 4.27407692, 4.29147255, 4.30751088, 4.32227652])"
      ]
     },
     "execution_count": 25,
     "metadata": {},
     "output_type": "execute_result"
    }
   ],
   "source": [
    "tight_data['bounds']"
   ]
  },
  {
   "cell_type": "code",
   "execution_count": 33,
   "metadata": {},
   "outputs": [
    {
     "data": {
      "text/plain": [
       "[array([-1.15008644, -1.15008483,  1.49069847,  1.85390358]),\n",
       " array([-2.21624679, -2.21624479,  2.73076187,  2.73081773]),\n",
       " array([-13.40324736,  -4.26651322,   6.08361453,  14.22698142])]"
      ]
     },
     "execution_count": 33,
     "metadata": {},
     "output_type": "execute_result"
    }
   ],
   "source": [
    "[opt_results[j][0] for j in range(3)]"
   ]
  },
  {
   "cell_type": "code",
   "execution_count": null,
   "metadata": {},
   "outputs": [],
   "source": []
  }
 ],
 "metadata": {
  "kernelspec": {
   "display_name": "Python 3.7.13 ('base')",
   "language": "python",
   "name": "python3"
  },
  "language_info": {
   "codemirror_mode": {
    "name": "ipython",
    "version": 3
   },
   "file_extension": ".py",
   "mimetype": "text/x-python",
   "name": "python",
   "nbconvert_exporter": "python",
   "pygments_lexer": "ipython3",
   "version": "3.7.13"
  },
  "orig_nbformat": 4,
  "vscode": {
   "interpreter": {
    "hash": "deac690a8f78a88d7461e42f580da84f099726daa5f1976cafb33656d309052d"
   }
  }
 },
 "nbformat": 4,
 "nbformat_minor": 2
}
